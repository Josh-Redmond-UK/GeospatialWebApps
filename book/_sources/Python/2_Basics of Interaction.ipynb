{
 "cells": [
  {
   "attachments": {},
   "cell_type": "markdown",
   "metadata": {},
   "source": [
    "## Basics of Interaction\n",
    "\n",
    "In this section of the class, you will explore how to load in data and interact with it visually using widgets in a notebook format. These widgets will form the basis of the apps that you will create in this class. Widgets are a powerful tool and can be used for a wide range of different tasks, and can even be customised with javascript if you so desire. "
   ]
  },
  {
   "attachments": {},
   "cell_type": "markdown",
   "metadata": {},
   "source": [
    "First, we'll load in some data. I have created a set of custom python scripts which handle all of the data management and loading, so you don't need to worry about writing custom loading functions or anything similar, we will focus entirely on building interaction and visualisation systems rather than data wrangling or modelling. "
   ]
  },
  {
   "cell_type": "code",
   "execution_count": null,
   "metadata": {},
   "outputs": [],
   "source": [
    "## We will start with some generated dummy data to learn the basics of interactive visualisation\n",
    "%matplotlib inline\n",
    "\n",
    "#from utils.functions import *\n",
    "import numpy as np\n",
    "import matplotlib.pyplot as plt\n",
    "\n",
    "\n",
    "x = np.random.normal(5, 2, 100)\n",
    "def generate_y(x, m, c):\n",
    "    return m*x + c\n",
    "\n",
    "y = generate_y(x, 2, 3)\n",
    "\n",
    "plt.scatter(x, y)"
   ]
  },
  {
   "attachments": {},
   "cell_type": "markdown",
   "metadata": {},
   "source": [
    "In the above cell we have generated some data and plotted it - the Y part of the data is generated according to parameters set by the user. If you imagine this to be a model of some phenomena, then varying the input parameters lets a user or researcher explore what different scenarios might mean and how they affect outcomes important to them. \n",
    "\n",
    "We are now going to see how we can add a visual tool which lets a user change the parameters of the function. "
   ]
  },
  {
   "cell_type": "code",
   "execution_count": null,
   "metadata": {},
   "outputs": [],
   "source": [
    "import ipywidgets as widgets\n",
    "\n",
    "m_slider = widgets.IntSlider(\n",
    "    value=2,\n",
    "    min=0,\n",
    "    max=10,\n",
    "    step=1,\n",
    "    description='M:')\n",
    "\n",
    "c_slider = widgets.IntSlider(\n",
    "    value=3,\n",
    "    min=0,\n",
    "    max=10,\n",
    "    step=1,\n",
    "    description='C:')\n",
    "\n",
    "display(c_slider)\n",
    "display(m_slider)"
   ]
  },
  {
   "attachments": {},
   "cell_type": "markdown",
   "metadata": {},
   "source": [
    "The above code creates two integer sliders which let the user select parameter values between limits that we have defined. This lets them visually select the values and interact with them. It is easy to then extract the values from the widgets by using the .value property, as below."
   ]
  },
  {
   "cell_type": "code",
   "execution_count": null,
   "metadata": {},
   "outputs": [],
   "source": [
    "print(\"M:\", m_slider.value)\n",
    "print(\"C\", c_slider.value)\n",
    "y = generate_y(x, m_slider.value, c_slider.value)\n",
    "plt.scatter(x, y)"
   ]
  },
  {
   "attachments": {},
   "cell_type": "markdown",
   "metadata": {},
   "source": [
    "Updating the chart with user input is easy, but in the above example a user changing the parameters doesn't automatically update the chart, we can change this by using observers. Observers are an important concept in web-development generally, but in this case what you need to know is that they allow you to set a function which is called when the state of a widget changes. Below, we will create two observers for the sliders which are called every time their value is changed, updating the chart. \n",
    "\n",
    "Because these are reactive to user input, you can use them to do all manner of interesting things, updating the charts and triggering analysis in response to the user input without requiring them to specifically click a prompt. "
   ]
  },
  {
   "cell_type": "code",
   "execution_count": null,
   "metadata": {},
   "outputs": [],
   "source": [
    "%matplotlib inline\n",
    "\n",
    "plot_display = widgets.Output()\n",
    "with plot_display:\n",
    "    y = generate_y(x, 2, 3)\n",
    "    fig, ax = plt.subplots()\n",
    "    chart = ax.scatter(x, y)\n",
    "    plt.show()\n",
    "\n",
    "m_slider = widgets.IntSlider(\n",
    "    value=2,\n",
    "    min=0,\n",
    "    max=10,\n",
    "    step=1,\n",
    "    description='M:')\n",
    "\n",
    "c_slider = widgets.IntSlider(\n",
    "    value=3,\n",
    "    min=0,\n",
    "    max=10,\n",
    "    step=1,\n",
    "    description='C:')\n",
    "\n",
    "\n",
    "\n",
    "def update_chart(change):\n",
    "    y = generate_y(x, m_slider.value, c_slider.value)\n",
    "    plot_display.clear_output(wait=True)\n",
    "    with plot_display:\n",
    "        fig, ax = plt.subplots()\n",
    "        chart = ax.scatter(x, y)\n",
    "        plt.show()\n",
    "\n",
    "\n",
    "m_slider.observe(update_chart, names='value')\n",
    "c_slider.observe(update_chart, names='value')\n",
    "\n",
    "display(plot_display)\n",
    "display(m_slider)\n",
    "display(c_slider)"
   ]
  },
  {
   "attachments": {},
   "cell_type": "markdown",
   "metadata": {},
   "source": [
    "There's a load of different ways to handle this kind of interaction, including using buttons and listening for mouseclicks. Depending on what the goals are of the application, and what computation you are doing, you might use a different approach. If you are generating data in a computationally intensive way, you might not want to re-run all your code every time the user updates something, instead using a button to start that process. \n",
    "\n",
    "Now, it is your turn, in the following exercises, you will create some basic interactive tools and use them to generate and visualise data. "
   ]
  },
  {
   "cell_type": "code",
   "execution_count": null,
   "metadata": {},
   "outputs": [],
   "source": [
    "#Exercise 1: Re-write the generation function so the data is exponential (x^m + c) rather than linear and plot the data\n",
    "\n"
   ]
  },
  {
   "cell_type": "code",
   "execution_count": null,
   "metadata": {},
   "outputs": [],
   "source": [
    "#Exercise 2: Vary visualisation parameters with a dropdown menu\n",
    "# Hint: Use the widgets.Dropdown() function\n",
    "# Dropdown menus work in basically the same way as the sliders, but with categorical options which you specify by hand\n",
    "\n",
    "example_dropdown = widgets.Dropdown(options=['Item 1', 'Item 2'])\n",
    "display(example_dropdown)\n"
   ]
  },
  {
   "cell_type": "code",
   "execution_count": null,
   "metadata": {},
   "outputs": [],
   "source": [
    "#Exercise 3: Add a button to reset the visualisation\n",
    "# Hint: Use the widgets.Button() function\n",
    "# Buttons are widgets which you can click to trigger an action\n",
    "# You can specify the action by passing a function to the button's on_click() method\n",
    "\n",
    "example_button = widgets.Button(description='Reset')\n",
    "example_button.on_click(lambda x: print('Button clicked!'))\n",
    "display(example_button)"
   ]
  },
  {
   "cell_type": "code",
   "execution_count": null,
   "metadata": {},
   "outputs": [],
   "source": []
  }
 ],
 "metadata": {
  "kernelspec": {
   "display_name": "GIScienceWorkshop",
   "language": "python",
   "name": "python3"
  },
  "language_info": {
   "codemirror_mode": {
    "name": "ipython",
    "version": 3
   },
   "file_extension": ".py",
   "mimetype": "text/x-python",
   "name": "python",
   "nbconvert_exporter": "python",
   "pygments_lexer": "ipython3",
   "version": "3.10.13"
  },
  "orig_nbformat": 4
 },
 "nbformat": 4,
 "nbformat_minor": 2
}
