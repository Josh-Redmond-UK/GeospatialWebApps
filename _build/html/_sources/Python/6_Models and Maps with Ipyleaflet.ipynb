{
 "cells": [
  {
   "attachments": {},
   "cell_type": "markdown",
   "metadata": {},
   "source": [
    "## Models and Maps with Ipyleaflet\n",
    "\n",
    "In this next section, we're going to use all of what you have learned so far to create a heatwave forecasting map which lets users explore future events. \n",
    "\n",
    "Please note, the model for air temperature in this section is basically totally made up. It makes some intuitive sense but the parameters are basically random, and probably will not give any reasonable estimate, it is purely to demonstrate how to use a model to create data which will go onto a map. "
   ]
  },
  {
   "cell_type": "code",
   "execution_count": 1,
   "metadata": {},
   "outputs": [
    {
     "name": "stdout",
     "output_type": "stream",
     "text": [
      "Intel MKL WARNING: Support of Intel(R) Streaming SIMD Extensions 4.2 (Intel(R) SSE4.2) enabled only processors has been deprecated. Intel oneAPI Math Kernel Library 2025.0 will require Intel(R) Advanced Vector Extensions (Intel(R) AVX) instructions.\n",
      "Intel MKL WARNING: Support of Intel(R) Streaming SIMD Extensions 4.2 (Intel(R) SSE4.2) enabled only processors has been deprecated. Intel oneAPI Math Kernel Library 2025.0 will require Intel(R) Advanced Vector Extensions (Intel(R) AVX) instructions.\n"
     ]
    }
   ],
   "source": [
    "import numpy as np\n",
    "\n",
    "# First, lets define a really simple model for the air temperature of point on the land surface. We will model this as a linear combination of \n",
    "# solar irradiance, NDVI, NDBI, and NDWI. We will also add some random noise to the model to make it more realistic. \n",
    "# This relies on the intuition of the urban heat island effect, where the emissivity and other characteristics of the land surface\n",
    "# affect temperature. \n",
    "\n",
    "def model_airtemp(solar_irradiance, ndvi, ndbi, ndwi, c=25, ndvi_beta=-3, ndbi_beta=4, ndwi_beta=-2):\n",
    "    airtemp =  ndvi_beta*ndvi + ndbi_beta*ndbi + ndwi_beta*ndwi + np.random.normal(-1, 1) + c + solar_irradiance\n",
    "    return airtemp\n",
    "\n",
    "# Fun question - why do I add the solar_arradiance to the model ad the end?"
   ]
  },
  {
   "cell_type": "code",
   "execution_count": 2,
   "metadata": {},
   "outputs": [],
   "source": [
    "import ipywidgets as widgets\n",
    "from ipyleaflet import Map, ImageOverlay\n",
    "import rasterio as rio\n",
    "\n",
    "def add_tiff_to_map(path, map, filename=\"temp.png\"):\n",
    "    reader = rio.open(path)\n",
    "\n",
    "    metadata = reader.profile\n",
    "    bounds = reader.bounds\n",
    "\n",
    "    SW = (bounds.bottom, bounds.left)\n",
    "    NE = (bounds.top, bounds.right)\n",
    "    bounds_tuple = (SW, NE)\n",
    "\n",
    "    array = reader.read()\n",
    "    array = np.moveaxis(array, 0, -1)\n",
    "\n",
    "    nan_mask = ~np.isnan(array) * 1 \n",
    "    nan_mask *= 255\n",
    "    nan_mask = nan_mask.astype(np.uint8)\n",
    "    array = np.nan_to_num(array)\n",
    "\n",
    "\n",
    "    array_max = np.max(array)\n",
    "    array_min = np.min(array)\n",
    "    array = np.clip((array - array_min) / (array_max - array_min) * 255, 0, 255)\n",
    "    array = array.astype(np.uint8)\n",
    "\n",
    "    image = Image.fromarray(np.squeeze(np.stack([array, array, array, nan_mask], axis=-1)), mode=\"RGBA\")\n",
    "    image.save(filename)\n",
    "\n",
    "\n",
    "    # Now we can add the image to the map\n",
    "    image_layer = ImageOverlay(url=filename, bounds=bounds_tuple)\n",
    "    map.add_layer(image_layer)"
   ]
  },
  {
   "cell_type": "code",
   "execution_count": 5,
   "metadata": {},
   "outputs": [
    {
     "data": {
      "application/vnd.jupyter.widget-view+json": {
       "model_id": "57b9b377e84d4af5a900d6bca662c4b9",
       "version_major": 2,
       "version_minor": 0
      },
      "text/plain": [
       "Map(center=[53.8008, -1.5491], controls=(ZoomControl(options=['position', 'zoom_in_text', 'zoom_in_title', 'zo…"
      ]
     },
     "metadata": {},
     "output_type": "display_data"
    }
   ],
   "source": [
    "import os\n",
    "center = (53.8008, -1.5491)\n",
    "m = Map(center=center, zoom=12)\n",
    "\n",
    "# First, we will load the spectral indices data from the raster files. \n",
    "\n",
    "ndvi_array = rio.open('Data/leeds_NDVI_aug_highres.tif').read()\n",
    "ndwi_array = rio.open('Data/leeds_NDWI_aug_highres.tif').read()\n",
    "ndbi_array = rio.open('Data/leeds_NDBI_aug_highres.tif').read()\n",
    "\n",
    "# All three of these arrays have the same shape, so we can use the shape and extent of one of them to define the extent of air temperature data.\n",
    "\n",
    "image_extent = rio.open('Data/leeds_NDVI_aug_highres.tif').bounds\n",
    "SW = (image_extent.bottom, image_extent.left)\n",
    "NE = (image_extent.top, image_extent.right)\n",
    "bounds_tuple = (SW, NE)\n",
    "\n",
    "# Now, lets create the airtemperature array which holds the data\n",
    "airtemp_array = model_airtemp(3, ndvi_array, ndbi_array, ndwi_array)\n",
    "\n",
    "from PIL import Image\n",
    "\n",
    "array = np.moveaxis(airtemp_array, 0, -1)\n",
    "nan_mask = ~np.isnan(array) * 1 \n",
    "nan_mask *= 255\n",
    "array_min = np.nanmin(array)\n",
    "\n",
    "nan_mask = nan_mask.astype(np.uint8)\n",
    "array = np.nan_to_num(array)\n",
    "\n",
    "\n",
    "array_max = np.max(array)\n",
    "array = np.clip((array - array_min) / (array_max - array_min) * 255, 0, 255)\n",
    "array = array.astype(np.uint8)\n",
    "try:\n",
    "    os.remove(\"airtemp.png\")\n",
    "except:\n",
    "    pass\n",
    "\n",
    "image = Image.fromarray(np.squeeze(np.stack([array, array, array, nan_mask], axis=-1)), mode=\"RGBA\")\n",
    "image.save('airtemp.png')\n",
    "##NB\n",
    "## If you pass an image (even if it is different) to the ImageOverlay, it will not update the image if the URL is the same. \n",
    "## So, we need to delete the old image if it exists, and then save the new image with a new name if we want to keep updating the map. \n",
    "\n",
    "# Now we can add the image to the map\n",
    "image_layer = ImageOverlay(url=\"airtemp.png\", bounds=bounds_tuple)\n",
    "m.add_layer(image_layer)\n",
    "display(m)"
   ]
  },
  {
   "attachments": {},
   "cell_type": "markdown",
   "metadata": {},
   "source": [
    "Now that we have added the data to the map, its time to put it all together! \n",
    "\n",
    "Using what you have learned in the previous notebooks, your job is to:\n",
    "1. Create a slider to alter solar_irradiance between 10 and 23\n",
    "2. Use an observer to calculate a new air temperature raster each time the slider is changed\n",
    "3. Clear the map of its old layers, and add the new raster once it is calculated\n",
    "4. Create an additional panel for tuning the coefficients of the model: ndvi_beta, ndwi_beta, and ndbi_beta between -5 and 5\n",
    "5. Use containers to compose these widgets together so the map is on one side, and controls are on the other\n",
    "\n",
    "To get started, I will provide a function which automatically converts the air temperature array to a png file\n"
   ]
  },
  {
   "cell_type": "code",
   "execution_count": null,
   "metadata": {},
   "outputs": [],
   "source": [
    "def array_to_png(array, filename='temp.png'):\n",
    "    array = np.moveaxis(array, 0, -1)\n",
    "    nan_mask = ~np.isnan(array) * 1 \n",
    "    nan_mask *= 255\n",
    "    nan_mask = nan_mask.astype(np.uint8)\n",
    "    array_max = np.nanmax(array)\n",
    "    array_min = np.nanmin(array)\n",
    "\n",
    "    array = np.nan_to_num(array)\n",
    "\n",
    "\n",
    "    array = np.clip((array - array_min) / (array_max - array_min) * 255, 0, 255)\n",
    "    array = array.astype(np.uint8)\n",
    "\n",
    "    image = Image.fromarray(np.squeeze(np.stack([array, array, array, nan_mask], axis=-1)), mode=\"RGBA\")\n",
    "    image.save(filename)\n",
    "    return filename\n"
   ]
  },
  {
   "cell_type": "code",
   "execution_count": null,
   "metadata": {},
   "outputs": [],
   "source": [
    "## Bonus Exercise! \n",
    "# The image added to the map is currently gray-scale, and doesn't contain any information about the scale of the values. \n",
    "# Your task is to update the widgets you have created above to generate colour images using a colour map of your choice. \n",
    "# We have to manually convert the single-band array to a 3-band colour image.\n",
    "# We can do that using the following function\n",
    "import matplotlib\n",
    "import matplotlib.cm as cm\n",
    "\n",
    "def greyscale_to_colour(greyscale_array):\n",
    "    array_max = np.max(array)\n",
    "    array_min = np.min(array)\n",
    "    # Matplotlib wants the data in range [0, 1], so we need to normalise the data\n",
    "    normaliser = matplotlib.colors.Normalize(vmin=array_min, vmax=array_max, clip=True)\n",
    "    scalar_mapper = cm.ScalarMappable(norm=normaliser, cmap='magma')\n",
    "    colour_array = scalar_mapper.to_rgba(greyscale_array)\n",
    "    return colour_array[:,:,:-1] #drop the alpha channel\n",
    "\n",
    "#The rest is up to you"
   ]
  }
 ],
 "metadata": {
  "kernelspec": {
   "display_name": "GIScienceWorkshop",
   "language": "python",
   "name": "python3"
  },
  "language_info": {
   "codemirror_mode": {
    "name": "ipython",
    "version": 3
   },
   "file_extension": ".py",
   "mimetype": "text/x-python",
   "name": "python",
   "nbconvert_exporter": "python",
   "pygments_lexer": "ipython3",
   "version": "3.10.13"
  },
  "orig_nbformat": 4
 },
 "nbformat": 4,
 "nbformat_minor": 2
}
