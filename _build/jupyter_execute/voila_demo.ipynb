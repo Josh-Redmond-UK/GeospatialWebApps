{
 "cells": [
  {
   "attachments": {},
   "cell_type": "markdown",
   "metadata": {},
   "source": [
    "# Air Temperature Mapping Demo"
   ]
  },
  {
   "cell_type": "code",
   "execution_count": 1,
   "metadata": {},
   "outputs": [
    {
     "ename": "RasterioIOError",
     "evalue": "data/ndvi.tif: No such file or directory",
     "output_type": "error",
     "traceback": [
      "\u001b[0;31m---------------------------------------------------------------------------\u001b[0m",
      "\u001b[0;31mCPLE_OpenFailedError\u001b[0m                      Traceback (most recent call last)",
      "File \u001b[0;32mrasterio/_base.pyx:310\u001b[0m, in \u001b[0;36mrasterio._base.DatasetBase.__init__\u001b[0;34m()\u001b[0m\n",
      "File \u001b[0;32mrasterio/_base.pyx:221\u001b[0m, in \u001b[0;36mrasterio._base.open_dataset\u001b[0;34m()\u001b[0m\n",
      "File \u001b[0;32mrasterio/_err.pyx:221\u001b[0m, in \u001b[0;36mrasterio._err.exc_wrap_pointer\u001b[0;34m()\u001b[0m\n",
      "\u001b[0;31mCPLE_OpenFailedError\u001b[0m: data/ndvi.tif: No such file or directory",
      "\nDuring handling of the above exception, another exception occurred:\n",
      "\u001b[0;31mRasterioIOError\u001b[0m                           Traceback (most recent call last)",
      "Cell \u001b[0;32mIn[1], line 11\u001b[0m\n\u001b[1;32m      8\u001b[0m     airtemp \u001b[38;5;241m=\u001b[39m  ndvi_beta\u001b[38;5;241m*\u001b[39mndvi \u001b[38;5;241m+\u001b[39m ndbi_beta\u001b[38;5;241m*\u001b[39mndbi \u001b[38;5;241m+\u001b[39m ndwi_beta\u001b[38;5;241m*\u001b[39mndwi \u001b[38;5;241m+\u001b[39m np\u001b[38;5;241m.\u001b[39mrandom\u001b[38;5;241m.\u001b[39mnormal(\u001b[38;5;241m-\u001b[39m\u001b[38;5;241m1\u001b[39m, \u001b[38;5;241m1\u001b[39m) \u001b[38;5;241m+\u001b[39m c \u001b[38;5;241m+\u001b[39m solar_irradiance\n\u001b[1;32m      9\u001b[0m     \u001b[38;5;28;01mreturn\u001b[39;00m airtemp\n\u001b[0;32m---> 11\u001b[0m ndvi_array \u001b[38;5;241m=\u001b[39m \u001b[43mrio\u001b[49m\u001b[38;5;241;43m.\u001b[39;49m\u001b[43mopen\u001b[49m\u001b[43m(\u001b[49m\u001b[38;5;124;43m'\u001b[39;49m\u001b[38;5;124;43mdata/ndvi.tif\u001b[39;49m\u001b[38;5;124;43m'\u001b[39;49m\u001b[43m)\u001b[49m\u001b[38;5;241m.\u001b[39mread(\u001b[38;5;241m1\u001b[39m)\n\u001b[1;32m     12\u001b[0m ndwi_array \u001b[38;5;241m=\u001b[39m rio\u001b[38;5;241m.\u001b[39mopen(\u001b[38;5;124m'\u001b[39m\u001b[38;5;124mdata/ndwi.tif\u001b[39m\u001b[38;5;124m'\u001b[39m)\u001b[38;5;241m.\u001b[39mread(\u001b[38;5;241m1\u001b[39m)\n\u001b[1;32m     13\u001b[0m ndbi_array \u001b[38;5;241m=\u001b[39m rio\u001b[38;5;241m.\u001b[39mopen(\u001b[38;5;124m'\u001b[39m\u001b[38;5;124mdata/ndbi.tif\u001b[39m\u001b[38;5;124m'\u001b[39m)\u001b[38;5;241m.\u001b[39mread(\u001b[38;5;241m1\u001b[39m)\n",
      "File \u001b[0;32m~/miniconda3/envs/jupyterBook/lib/python3.11/site-packages/rasterio/env.py:451\u001b[0m, in \u001b[0;36mensure_env_with_credentials.<locals>.wrapper\u001b[0;34m(*args, **kwds)\u001b[0m\n\u001b[1;32m    448\u001b[0m     session \u001b[38;5;241m=\u001b[39m DummySession()\n\u001b[1;32m    450\u001b[0m \u001b[38;5;28;01mwith\u001b[39;00m env_ctor(session\u001b[38;5;241m=\u001b[39msession):\n\u001b[0;32m--> 451\u001b[0m     \u001b[38;5;28;01mreturn\u001b[39;00m \u001b[43mf\u001b[49m\u001b[43m(\u001b[49m\u001b[38;5;241;43m*\u001b[39;49m\u001b[43margs\u001b[49m\u001b[43m,\u001b[49m\u001b[43m \u001b[49m\u001b[38;5;241;43m*\u001b[39;49m\u001b[38;5;241;43m*\u001b[39;49m\u001b[43mkwds\u001b[49m\u001b[43m)\u001b[49m\n",
      "File \u001b[0;32m~/miniconda3/envs/jupyterBook/lib/python3.11/site-packages/rasterio/__init__.py:304\u001b[0m, in \u001b[0;36mopen\u001b[0;34m(fp, mode, driver, width, height, count, crs, transform, dtype, nodata, sharing, **kwargs)\u001b[0m\n\u001b[1;32m    301\u001b[0m path \u001b[38;5;241m=\u001b[39m _parse_path(raw_dataset_path)\n\u001b[1;32m    303\u001b[0m \u001b[38;5;28;01mif\u001b[39;00m mode \u001b[38;5;241m==\u001b[39m \u001b[38;5;124m\"\u001b[39m\u001b[38;5;124mr\u001b[39m\u001b[38;5;124m\"\u001b[39m:\n\u001b[0;32m--> 304\u001b[0m     dataset \u001b[38;5;241m=\u001b[39m \u001b[43mDatasetReader\u001b[49m\u001b[43m(\u001b[49m\u001b[43mpath\u001b[49m\u001b[43m,\u001b[49m\u001b[43m \u001b[49m\u001b[43mdriver\u001b[49m\u001b[38;5;241;43m=\u001b[39;49m\u001b[43mdriver\u001b[49m\u001b[43m,\u001b[49m\u001b[43m \u001b[49m\u001b[43msharing\u001b[49m\u001b[38;5;241;43m=\u001b[39;49m\u001b[43msharing\u001b[49m\u001b[43m,\u001b[49m\u001b[43m \u001b[49m\u001b[38;5;241;43m*\u001b[39;49m\u001b[38;5;241;43m*\u001b[39;49m\u001b[43mkwargs\u001b[49m\u001b[43m)\u001b[49m\n\u001b[1;32m    305\u001b[0m \u001b[38;5;28;01melif\u001b[39;00m mode \u001b[38;5;241m==\u001b[39m \u001b[38;5;124m\"\u001b[39m\u001b[38;5;124mr+\u001b[39m\u001b[38;5;124m\"\u001b[39m:\n\u001b[1;32m    306\u001b[0m     dataset \u001b[38;5;241m=\u001b[39m get_writer_for_path(path, driver\u001b[38;5;241m=\u001b[39mdriver)(\n\u001b[1;32m    307\u001b[0m         path, mode, driver\u001b[38;5;241m=\u001b[39mdriver, sharing\u001b[38;5;241m=\u001b[39msharing, \u001b[38;5;241m*\u001b[39m\u001b[38;5;241m*\u001b[39mkwargs\n\u001b[1;32m    308\u001b[0m     )\n",
      "File \u001b[0;32mrasterio/_base.pyx:312\u001b[0m, in \u001b[0;36mrasterio._base.DatasetBase.__init__\u001b[0;34m()\u001b[0m\n",
      "\u001b[0;31mRasterioIOError\u001b[0m: data/ndvi.tif: No such file or directory"
     ]
    }
   ],
   "source": [
    "import numpy as np\n",
    "import ipywidgets as widgets\n",
    "from ipyleaflet import Map, ImageOverlay\n",
    "import rasterio as rio\n",
    "\n",
    "\n",
    "def model_airtemp(solar_irradiance, ndvi, ndbi, ndwi, c=25, ndvi_beta=-3, ndbi_beta=4, ndwi_beta=-2):\n",
    "    airtemp =  ndvi_beta*ndvi + ndbi_beta*ndbi + ndwi_beta*ndwi + np.random.normal(-1, 1) + c + solar_irradiance\n",
    "    return airtemp\n",
    "\n",
    "ndvi_array = rio.open('data/ndvi.tif').read(1)\n",
    "ndwi_array = rio.open('data/ndwi.tif').read(1)\n",
    "ndbi_array = rio.open('data/ndbi.tif').read(1)\n",
    "\n",
    "image_extent = rio.open('data/ndvi.tif').bounds\n",
    "SW = (bounds.left, bounds.bottom)\n",
    "NE = (bounds.right, bounds.top)\n",
    "bounds_tuple = (SW, NE)\n",
    "\n",
    "\n",
    "def array_to_jpeg(array, jpeg_path='temp.jpeg'):\n",
    "    array = np.moveaxis(airtemp_array, 0, -1)\n",
    "\n",
    "    array_max = np.max(array)\n",
    "    array_min = np.min(array)\n",
    "    array = np.clip((array - array_min) / (array_max - array_min) * 255, 0, 255)\n",
    "    array = array.as_type(np.uint8)\n",
    "\n",
    "    image = Image.fromarray(array)\n",
    "\n",
    "    jpeg_path_temp = SAVE_FILE_FUNCTION(PTH)\n",
    "    return jpeg_path\n",
    "\n",
    "\n",
    "solar_irradiance_slider = widgets.FloatSlider(value=14, min=10, max=20, step=0.1, description='Solar Irradiance')\n",
    "ndvi_slider = widgets.FloatSlider(value=0, min=-5, max=5, step=0.01, description='NDVI Coefficient')\n",
    "ndbi_slider = widgets.FloatSlider(value=0, min=-5, max=5, step=0.01, description='NBVI Coefficient')\n",
    "ndwi_slider = widgets.FloatSlider(value=0, min=-5, max=5, step=0.01, description='NBWI Coefficient')\n",
    "\n",
    "def updateMap(change):\n",
    "\n",
    "    new_airtemp = model_airtemp(solar_irradiance_slider.value, ndvi_array, ndbi_array, ndwi_array, 13, ndvi_slider.value, \n",
    "                  ndbi_slider.value, ndwi_slider.value)\n",
    "    \n",
    "    path = array_to_jpeg(new_airtemp)\n",
    "    imageLayer = ImageOverlay(path, bounds_tuple)\n",
    "    m.reset_layers()\n",
    "    m.add_layer(imageLayer)\n",
    "    \n",
    "\n",
    "solar_irradiance_slider.observe(updateMap, 'value')\n",
    "ndvi_slider.observe(updateMap, 'value')\n",
    "ndbi_slider.observe(updateMap, 'value')\n",
    "ndwi_slider.observe(updateMap, 'value')\n",
    "\n",
    "\n",
    "irradiance_slider_container = widgets.Box([solar_irradiance_slider])\n",
    "parameters_container = widgets.VBox([ndvi_slider, ndbi_slider, ndwi_slider])\n",
    "\n",
    "controls_container = widgets.VBox([irradiance_slider_container, parameters_container])\n",
    "mapDisplay = widgets.output()\n",
    "\n",
    "mapLayout = widgets.HBox([mapDisplay, controls_container])\n",
    "\n",
    "with mapLayout:\n",
    "    display(m)\n",
    "\n",
    "display(mapLayout)\n"
   ]
  }
 ],
 "metadata": {
  "language_info": {
   "codemirror_mode": {
    "name": "ipython",
    "version": 3
   },
   "file_extension": ".py",
   "mimetype": "text/x-python",
   "name": "python",
   "nbconvert_exporter": "python",
   "pygments_lexer": "ipython3",
   "version": "3.11.5"
  }
 },
 "nbformat": 4,
 "nbformat_minor": 2
}