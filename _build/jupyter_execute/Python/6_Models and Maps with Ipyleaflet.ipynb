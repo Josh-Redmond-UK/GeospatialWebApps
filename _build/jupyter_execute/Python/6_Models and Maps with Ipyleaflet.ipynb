{
 "cells": [
  {
   "attachments": {},
   "cell_type": "markdown",
   "metadata": {},
   "source": [
    "## Models and Maps with Ipyleaflet\n",
    "\n",
    "In this next section, we're going to use all of what you have learned so far to create a heatwave forecasting map which lets users explore future events. \n",
    "\n",
    "Please note, the model for air temperature in this section is basically totally made up. It makes some intuitive sense but the parameters are basically random, and probably will not give any reasonable estimate, it is purely to demonstrate how to use a model to create data which will go onto a map. "
   ]
  },
  {
   "cell_type": "code",
   "execution_count": 1,
   "metadata": {},
   "outputs": [
    {
     "name": "stdout",
     "output_type": "stream",
     "text": [
      "Intel MKL WARNING: Support of Intel(R) Streaming SIMD Extensions 4.2 (Intel(R) SSE4.2) enabled only processors has been deprecated. Intel oneAPI Math Kernel Library 2025.0 will require Intel(R) Advanced Vector Extensions (Intel(R) AVX) instructions.\n",
      "Intel MKL WARNING: Support of Intel(R) Streaming SIMD Extensions 4.2 (Intel(R) SSE4.2) enabled only processors has been deprecated. Intel oneAPI Math Kernel Library 2025.0 will require Intel(R) Advanced Vector Extensions (Intel(R) AVX) instructions.\n"
     ]
    }
   ],
   "source": [
    "import numpy as np\n",
    "\n",
    "# First, lets define a really simple model for the air temperature of point on the land surface. We will model this as a linear combination of \n",
    "# solar irradiance, NDVI, NDBI, and NDWI. We will also add some random noise to the model to make it more realistic. \n",
    "# This relies on the intuition of the urban heat island effect, where the emissivity and other characteristics of the land surface\n",
    "# affect temperature. \n",
    "\n",
    "def model_airtemp(solar_irradiance, ndvi, ndbi, ndwi, c=25, ndvi_beta=-3, ndbi_beta=4, ndwi_beta=-2):\n",
    "    airtemp =  ndvi_beta*ndvi + ndbi_beta*ndbi + ndwi_beta*ndwi + np.random.normal(-1, 1) + c + solar_irradiance\n",
    "    return airtemp\n",
    "\n",
    "# Fun question - why do I add the solar_arradiance to the model ad the end?"
   ]
  },
  {
   "cell_type": "code",
   "execution_count": 2,
   "metadata": {},
   "outputs": [],
   "source": [
    "import ipywidgets as widgets\n",
    "from ipyleaflet import Map, ImageOverlay\n",
    "import rasterio as rio\n",
    "\n",
    "def add_tiff_to_map(path, map, filename=\"temp.png\"):\n",
    "    reader = rio.open(path)\n",
    "\n",
    "    metadata = reader.profile\n",
    "    bounds = reader.bounds\n",
    "\n",
    "    SW = (bounds.bottom, bounds.left)\n",
    "    NE = (bounds.top, bounds.right)\n",
    "    bounds_tuple = (SW, NE)\n",
    "\n",
    "    array = reader.read()\n",
    "    array = np.moveaxis(array, 0, -1)\n",
    "\n",
    "    nan_mask = ~np.isnan(array) * 1 \n",
    "    nan_mask *= 255\n",
    "    nan_mask = nan_mask.astype(np.uint8)\n",
    "    array = np.nan_to_num(array)\n",
    "\n",
    "\n",
    "    array_max = np.max(array)\n",
    "    array_min = np.min(array)\n",
    "    array = np.clip((array - array_min) / (array_max - array_min) * 255, 0, 255)\n",
    "    array = array.astype(np.uint8)\n",
    "\n",
    "    image = Image.fromarray(np.squeeze(np.stack([array, array, array, nan_mask], axis=-1)), mode=\"RGBA\")\n",
    "    image.save(filename)\n",
    "\n",
    "\n",
    "    # Now we can add the image to the map\n",
    "    image_layer = ImageOverlay(url=filename, bounds=bounds_tuple)\n",
    "    map.add_layer(image_layer)"
   ]
  },
  {
   "cell_type": "code",
   "execution_count": 3,
   "metadata": {},
   "outputs": [
    {
     "data": {
      "application/vnd.jupyter.widget-view+json": {
       "model_id": "2b24134147eb430bb300df38b47efd26",
       "version_major": 2,
       "version_minor": 0
      },
      "text/plain": [
       "Map(center=[53.8008, -1.5491], controls=(ZoomControl(options=['position', 'zoom_in_text', 'zoom_in_title', 'zo…"
      ]
     },
     "metadata": {},
     "output_type": "display_data"
    }
   ],
   "source": [
    "import os\n",
    "center = (53.8008, -1.5491)\n",
    "m = Map(center=center, zoom=12)\n",
    "\n",
    "# First, we will load the spectral indices data from the raster files. \n",
    "\n",
    "ndvi_array = rio.open('data/leeds_NDVI_aug_highres.tif').read()\n",
    "ndwi_array = rio.open('data/leeds_NDWI_aug_highres.tif').read()\n",
    "ndbi_array = rio.open('data/leeds_NDBI_aug_highres.tif').read()\n",
    "\n",
    "# All three of these arrays have the same shape, so we can use the shape and extent of one of them to define the extent of air temperature data.\n",
    "\n",
    "image_extent = rio.open('data/leeds_NDVI_aug_highres.tif').bounds\n",
    "SW = (image_extent.bottom, image_extent.left)\n",
    "NE = (image_extent.top, image_extent.right)\n",
    "bounds_tuple = (SW, NE)\n",
    "\n",
    "# Now, lets create the airtemperature array which holds the data\n",
    "airtemp_array = model_airtemp(3, ndvi_array, ndbi_array, ndwi_array)\n",
    "\n",
    "from PIL import Image\n",
    "\n",
    "array = np.moveaxis(airtemp_array, 0, -1)\n",
    "nan_mask = ~np.isnan(array) * 1 \n",
    "nan_mask *= 255\n",
    "array_min = np.nanmin(array)\n",
    "\n",
    "nan_mask = nan_mask.astype(np.uint8)\n",
    "array = np.nan_to_num(array)\n",
    "\n",
    "\n",
    "array_max = np.max(array)\n",
    "array = np.clip((array - array_min) / (array_max - array_min) * 255, 0, 255)\n",
    "array = array.astype(np.uint8)\n",
    "try:\n",
    "    os.remove(\"airtemp.png\")\n",
    "except:\n",
    "    pass\n",
    "\n",
    "image = Image.fromarray(np.squeeze(np.stack([array, array, array, nan_mask], axis=-1)), mode=\"RGBA\")\n",
    "image.save('airtemp.png')\n",
    "##NB\n",
    "## If you pass an image (even if it is different) to the ImageOverlay, it will not update the image if the URL is the same. \n",
    "## So, we need to delete the old image if it exists, and then save the new image with a new name if we want to keep updating the map. \n",
    "\n",
    "# Now we can add the image to the map\n",
    "image_layer = ImageOverlay(url=\"airtemp.png\", bounds=bounds_tuple)\n",
    "m.add_layer(image_layer)\n",
    "display(m)"
   ]
  },
  {
   "attachments": {},
   "cell_type": "markdown",
   "metadata": {},
   "source": [
    "Now that we have added the data to the map, its time to put it all together! \n",
    "\n",
    "Using what you have learned in the previous notebooks, your job is to:\n",
    "1. Create a slider to alter solar_irradiance between 10 and 23\n",
    "2. Use an observer to calculate a new air temperature raster each time the slider is changed\n",
    "3. Clear the map of its old layers, and add the new raster once it is calculated\n",
    "4. Create an additional panel for tuning the coefficients of the model: ndvi_beta, ndwi_beta, and ndbi_beta between -5 and 5\n",
    "5. Use containers to compose these widgets together so the map is on one side, and controls are on the other\n",
    "\n",
    "To get started, I will provide a function which automatically converts the air temperature array to a png file\n"
   ]
  },
  {
   "cell_type": "code",
   "execution_count": 4,
   "metadata": {},
   "outputs": [],
   "source": [
    "def array_to_png(array, filename='temp.png'):\n",
    "    array = np.moveaxis(array, 0, -1)\n",
    "    nan_mask = ~np.isnan(array) * 1 \n",
    "    nan_mask *= 255\n",
    "    nan_mask = nan_mask.astype(np.uint8)\n",
    "    array_max = np.nanmax(array)\n",
    "    array_min = np.nanmin(array)\n",
    "\n",
    "    array = np.nan_to_num(array)\n",
    "\n",
    "\n",
    "    array = np.clip((array - array_min) / (array_max - array_min) * 255, 0, 255)\n",
    "    array = array.astype(np.uint8)\n",
    "\n",
    "    image = Image.fromarray(np.squeeze(np.stack([array, array, array, nan_mask], axis=-1)), mode=\"RGBA\")\n",
    "    image.save(filename)\n",
    "    return filename\n"
   ]
  },
  {
   "cell_type": "code",
   "execution_count": 5,
   "metadata": {},
   "outputs": [],
   "source": [
    "## Bonus Exercise! \n",
    "# The image added to the map is currently gray-scale, and doesn't contain any information about the scale of the values. \n",
    "# Your task is to update the widgets you have created above to generate colour images using a colour map of your choice. \n",
    "# We have to manually convert the single-band array to a 3-band colour image.\n",
    "# We can do that using the following function\n",
    "import matplotlib\n",
    "import matplotlib.cm as cm\n",
    "\n",
    "def greyscale_to_colour(greyscale_array):\n",
    "    array_max = np.max(array)\n",
    "    array_min = np.min(array)\n",
    "    # Matplotlib wants the data in range [0, 1], so we need to normalise the data\n",
    "    normaliser = matplotlib.colors.Normalize(vmin=array_min, vmax=array_max, clip=True)\n",
    "    scalar_mapper = cm.ScalarMappable(norm=normaliser, cmap='magma')\n",
    "    colour_array = scalar_mapper.to_rgba(greyscale_array)\n",
    "    return colour_array[:,:,:-1] #drop the alpha channel\n",
    "\n",
    "#The rest is up to you"
   ]
  }
 ],
 "metadata": {
  "kernelspec": {
   "display_name": "GIScienceWorkshop",
   "language": "python",
   "name": "python3"
  },
  "language_info": {
   "codemirror_mode": {
    "name": "ipython",
    "version": 3
   },
   "file_extension": ".py",
   "mimetype": "text/x-python",
   "name": "python",
   "nbconvert_exporter": "python",
   "pygments_lexer": "ipython3",
   "version": "3.10.13"
  },
  "widgets": {
   "application/vnd.jupyter.widget-state+json": {
    "state": {
     "011527d30d8c4bafaa6f4ff8942d5ff1": {
      "model_module": "jupyter-leaflet",
      "model_module_version": "^0.17",
      "model_name": "LeafletMapStyleModel",
      "state": {
       "_model_module": "jupyter-leaflet",
       "_model_module_version": "^0.17",
       "_model_name": "LeafletMapStyleModel",
       "_view_count": null,
       "_view_module": "@jupyter-widgets/base",
       "_view_module_version": "2.0.0",
       "_view_name": "StyleView",
       "cursor": "move"
      }
     },
     "0ff9c56f3fdc43ca82594b0296466907": {
      "model_module": "jupyter-leaflet",
      "model_module_version": "^0.17",
      "model_name": "LeafletTileLayerModel",
      "state": {
       "_model_module": "jupyter-leaflet",
       "_model_module_version": "^0.17",
       "_model_name": "LeafletTileLayerModel",
       "_view_count": null,
       "_view_module": "jupyter-leaflet",
       "_view_module_version": "^0.17",
       "_view_name": "LeafletTileLayerView",
       "attribution": "&copy; <a href=\"https://www.openstreetmap.org/copyright\">OpenStreetMap</a> contributors",
       "base": true,
       "bottom": true,
       "bounds": null,
       "detect_retina": false,
       "loading": false,
       "max_native_zoom": null,
       "max_zoom": 19,
       "min_native_zoom": null,
       "min_zoom": 1,
       "name": "OpenStreetMap.Mapnik",
       "no_wrap": false,
       "opacity": 1.0,
       "options": [
        "attribution",
        "bounds",
        "detect_retina",
        "max_native_zoom",
        "max_zoom",
        "min_native_zoom",
        "min_zoom",
        "no_wrap",
        "tile_size",
        "tms",
        "zoom_offset"
       ],
       "pane": "",
       "popup": null,
       "popup_max_height": null,
       "popup_max_width": 300,
       "popup_min_width": 50,
       "show_loading": false,
       "subitems": [],
       "tile_size": 256,
       "tms": false,
       "url": "https://tile.openstreetmap.org/{z}/{x}/{y}.png",
       "visible": true,
       "zoom_offset": 0
      }
     },
     "2b24134147eb430bb300df38b47efd26": {
      "model_module": "jupyter-leaflet",
      "model_module_version": "^0.17",
      "model_name": "LeafletMapModel",
      "state": {
       "_dom_classes": [],
       "_model_module": "jupyter-leaflet",
       "_model_module_version": "^0.17",
       "_model_name": "LeafletMapModel",
       "_view_count": null,
       "_view_module": "jupyter-leaflet",
       "_view_module_version": "^0.17",
       "_view_name": "LeafletMapView",
       "bottom": 0.0,
       "bounce_at_zoom_limits": true,
       "box_zoom": true,
       "center": [
        53.8008,
        -1.5491
       ],
       "close_popup_on_click": true,
       "controls": [
        "IPY_MODEL_f221d64664d7465ea5ce2bf89184045e",
        "IPY_MODEL_c5ae590de1644ef5893bd75541e3ad40"
       ],
       "crs": {
        "custom": false,
        "name": "EPSG3857"
       },
       "default_style": "IPY_MODEL_497a2530b6f94c4c81add32a653081d6",
       "double_click_zoom": true,
       "dragging": true,
       "dragging_style": "IPY_MODEL_011527d30d8c4bafaa6f4ff8942d5ff1",
       "east": 0.0,
       "fullscreen": false,
       "inertia": true,
       "inertia_deceleration": 3000,
       "inertia_max_speed": 1500,
       "interpolation": "bilinear",
       "keyboard": true,
       "keyboard_pan_offset": 80,
       "keyboard_zoom_offset": 1,
       "layers": [
        "IPY_MODEL_0ff9c56f3fdc43ca82594b0296466907",
        "IPY_MODEL_31238a25e60447ef9a7095d7e9c3d4d9"
       ],
       "layout": "IPY_MODEL_ebdb7d9fc8bc4fa0a7033d2eff6e9aca",
       "left": 9007199254740991.0,
       "max_zoom": null,
       "min_zoom": null,
       "modisdate": "2023-09-11",
       "north": 0.0,
       "options": [
        "bounce_at_zoom_limits",
        "box_zoom",
        "center",
        "close_popup_on_click",
        "double_click_zoom",
        "dragging",
        "fullscreen",
        "inertia",
        "inertia_deceleration",
        "inertia_max_speed",
        "interpolation",
        "keyboard",
        "keyboard_pan_offset",
        "keyboard_zoom_offset",
        "max_zoom",
        "min_zoom",
        "prefer_canvas",
        "scroll_wheel_zoom",
        "tap",
        "tap_tolerance",
        "touch_zoom",
        "world_copy_jump",
        "zoom",
        "zoom_animation_threshold",
        "zoom_delta",
        "zoom_snap"
       ],
       "panes": {},
       "prefer_canvas": false,
       "right": 0.0,
       "scroll_wheel_zoom": false,
       "south": 0.0,
       "style": "IPY_MODEL_fd4dd105dd574126a23c74a408a16f46",
       "tabbable": null,
       "tap": true,
       "tap_tolerance": 15,
       "tooltip": null,
       "top": 9007199254740991.0,
       "touch_zoom": true,
       "west": 0.0,
       "window_url": "",
       "world_copy_jump": false,
       "zoom": 12.0,
       "zoom_animation_threshold": 4,
       "zoom_delta": 1.0,
       "zoom_snap": 1.0
      }
     },
     "31238a25e60447ef9a7095d7e9c3d4d9": {
      "model_module": "jupyter-leaflet",
      "model_module_version": "^0.17",
      "model_name": "LeafletImageOverlayModel",
      "state": {
       "_model_module": "jupyter-leaflet",
       "_model_module_version": "^0.17",
       "_model_name": "LeafletImageOverlayModel",
       "_view_count": null,
       "_view_module": "jupyter-leaflet",
       "_view_module_version": "^0.17",
       "_view_name": "LeafletImageOverlayView",
       "attribution": "",
       "base": false,
       "bottom": false,
       "bounds": [
        [
         53.697694423528525,
         -1.800223829375521
        ],
        [
         53.94742607251375,
         -1.2881841174273938
        ]
       ],
       "name": "",
       "opacity": 1.0,
       "options": [
        "attribution"
       ],
       "pane": "",
       "popup": null,
       "popup_max_height": null,
       "popup_max_width": 300,
       "popup_min_width": 50,
       "subitems": [],
       "url": "airtemp.png",
       "visible": true
      }
     },
     "497a2530b6f94c4c81add32a653081d6": {
      "model_module": "jupyter-leaflet",
      "model_module_version": "^0.17",
      "model_name": "LeafletMapStyleModel",
      "state": {
       "_model_module": "jupyter-leaflet",
       "_model_module_version": "^0.17",
       "_model_name": "LeafletMapStyleModel",
       "_view_count": null,
       "_view_module": "@jupyter-widgets/base",
       "_view_module_version": "2.0.0",
       "_view_name": "StyleView",
       "cursor": "grab"
      }
     },
     "c5ae590de1644ef5893bd75541e3ad40": {
      "model_module": "jupyter-leaflet",
      "model_module_version": "^0.17",
      "model_name": "LeafletAttributionControlModel",
      "state": {
       "_model_module": "jupyter-leaflet",
       "_model_module_version": "^0.17",
       "_model_name": "LeafletAttributionControlModel",
       "_view_count": null,
       "_view_module": "jupyter-leaflet",
       "_view_module_version": "^0.17",
       "_view_name": "LeafletAttributionControlView",
       "options": [
        "position",
        "prefix"
       ],
       "position": "bottomright",
       "prefix": "ipyleaflet"
      }
     },
     "ebdb7d9fc8bc4fa0a7033d2eff6e9aca": {
      "model_module": "@jupyter-widgets/base",
      "model_module_version": "2.0.0",
      "model_name": "LayoutModel",
      "state": {
       "_model_module": "@jupyter-widgets/base",
       "_model_module_version": "2.0.0",
       "_model_name": "LayoutModel",
       "_view_count": null,
       "_view_module": "@jupyter-widgets/base",
       "_view_module_version": "2.0.0",
       "_view_name": "LayoutView",
       "align_content": null,
       "align_items": null,
       "align_self": null,
       "border_bottom": null,
       "border_left": null,
       "border_right": null,
       "border_top": null,
       "bottom": null,
       "display": null,
       "flex": null,
       "flex_flow": null,
       "grid_area": null,
       "grid_auto_columns": null,
       "grid_auto_flow": null,
       "grid_auto_rows": null,
       "grid_column": null,
       "grid_gap": null,
       "grid_row": null,
       "grid_template_areas": null,
       "grid_template_columns": null,
       "grid_template_rows": null,
       "height": null,
       "justify_content": null,
       "justify_items": null,
       "left": null,
       "margin": null,
       "max_height": null,
       "max_width": null,
       "min_height": null,
       "min_width": null,
       "object_fit": null,
       "object_position": null,
       "order": null,
       "overflow": null,
       "padding": null,
       "right": null,
       "top": null,
       "visibility": null,
       "width": null
      }
     },
     "f221d64664d7465ea5ce2bf89184045e": {
      "model_module": "jupyter-leaflet",
      "model_module_version": "^0.17",
      "model_name": "LeafletZoomControlModel",
      "state": {
       "_model_module": "jupyter-leaflet",
       "_model_module_version": "^0.17",
       "_model_name": "LeafletZoomControlModel",
       "_view_count": null,
       "_view_module": "jupyter-leaflet",
       "_view_module_version": "^0.17",
       "_view_name": "LeafletZoomControlView",
       "options": [
        "position",
        "zoom_in_text",
        "zoom_in_title",
        "zoom_out_text",
        "zoom_out_title"
       ],
       "position": "topleft",
       "zoom_in_text": "+",
       "zoom_in_title": "Zoom in",
       "zoom_out_text": "-",
       "zoom_out_title": "Zoom out"
      }
     },
     "fd4dd105dd574126a23c74a408a16f46": {
      "model_module": "jupyter-leaflet",
      "model_module_version": "^0.17",
      "model_name": "LeafletMapStyleModel",
      "state": {
       "_model_module": "jupyter-leaflet",
       "_model_module_version": "^0.17",
       "_model_name": "LeafletMapStyleModel",
       "_view_count": null,
       "_view_module": "@jupyter-widgets/base",
       "_view_module_version": "2.0.0",
       "_view_name": "StyleView",
       "cursor": "grab"
      }
     }
    },
    "version_major": 2,
    "version_minor": 0
   }
  }
 },
 "nbformat": 4,
 "nbformat_minor": 2
}