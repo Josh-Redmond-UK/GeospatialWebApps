{
 "cells": [
  {
   "attachments": {},
   "cell_type": "markdown",
   "metadata": {},
   "source": [
    "## Basics of Interaction\n",
    "\n",
    "In this section of the class, you will explore how to load in data and interact with it visually using widgets in a notebook format. These widgets will form the basis of the apps that you will create in this class. Widgets are a powerful tool and can be used for a wide range of different tasks, and can even be customised with javascript if you so desire. "
   ]
  },
  {
   "attachments": {},
   "cell_type": "markdown",
   "metadata": {},
   "source": [
    "First, we'll load in some data. I have created a set of custom python scripts which handle all of the data management and loading, so you don't need to worry about writing custom loading functions or anything similar, we will focus entirely on building interaction and visualisation systems rather than data wrangling or modelling. "
   ]
  },
  {
   "cell_type": "code",
   "execution_count": 1,
   "metadata": {},
   "outputs": [
    {
     "name": "stdout",
     "output_type": "stream",
     "text": [
      "Intel MKL WARNING: Support of Intel(R) Streaming SIMD Extensions 4.2 (Intel(R) SSE4.2) enabled only processors has been deprecated. Intel oneAPI Math Kernel Library 2025.0 will require Intel(R) Advanced Vector Extensions (Intel(R) AVX) instructions.\n",
      "Intel MKL WARNING: Support of Intel(R) Streaming SIMD Extensions 4.2 (Intel(R) SSE4.2) enabled only processors has been deprecated. Intel oneAPI Math Kernel Library 2025.0 will require Intel(R) Advanced Vector Extensions (Intel(R) AVX) instructions.\n"
     ]
    },
    {
     "data": {
      "text/plain": [
       "<matplotlib.collections.PathCollection at 0x7f97f15e4cd0>"
      ]
     },
     "execution_count": 1,
     "metadata": {},
     "output_type": "execute_result"
    },
    {
     "data": {
      "image/png": "[encoded data removed]",
      "text/plain": [
       "<Figure size 640x480 with 1 Axes>"
      ]
     },
     "metadata": {},
     "output_type": "display_data"
    }
   ],
   "source": [
    "## We will start with some generated dummy data to learn the basics of interactive visualisation\n",
    "%matplotlib inline\n",
    "\n",
    "#from utils.functions import *\n",
    "import numpy as np\n",
    "import matplotlib.pyplot as plt\n",
    "\n",
    "\n",
    "x = np.random.normal(5, 2, 100)\n",
    "def generate_y(x, m, c):\n",
    "    return m*x + c\n",
    "\n",
    "y = generate_y(x, 2, 3)\n",
    "\n",
    "plt.scatter(x, y)"
   ]
  },
  {
   "attachments": {},
   "cell_type": "markdown",
   "metadata": {},
   "source": [
    "In the above cell we have generated some data and plotted it - the Y part of the data is generated according to parameters set by the user. If you imagine this to be a model of some phenomena, then varying the input parameters lets a user or researcher explore what different scenarios might mean and how they affect outcomes important to them. \n",
    "\n",
    "We are now going to see how we can add a visual tool which lets a user change the parameters of the function. "
   ]
  },
  {
   "cell_type": "code",
   "execution_count": 2,
   "metadata": {},
   "outputs": [
    {
     "data": {
      "application/vnd.jupyter.widget-view+json": {
       "model_id": "32190b9f7c494b43b9bae844d0423704",
       "version_major": 2,
       "version_minor": 0
      },
      "text/plain": [
       "IntSlider(value=3, description='C:', max=10)"
      ]
     },
     "metadata": {},
     "output_type": "display_data"
    },
    {
     "data": {
      "application/vnd.jupyter.widget-view+json": {
       "model_id": "5026f0484e5c426bb9779df815625520",
       "version_major": 2,
       "version_minor": 0
      },
      "text/plain": [
       "IntSlider(value=2, description='M:', max=10)"
      ]
     },
     "metadata": {},
     "output_type": "display_data"
    }
   ],
   "source": [
    "import ipywidgets as widgets\n",
    "\n",
    "m_slider = widgets.IntSlider(\n",
    "    value=2,\n",
    "    min=0,\n",
    "    max=10,\n",
    "    step=1,\n",
    "    description='M:')\n",
    "\n",
    "c_slider = widgets.IntSlider(\n",
    "    value=3,\n",
    "    min=0,\n",
    "    max=10,\n",
    "    step=1,\n",
    "    description='C:')\n",
    "\n",
    "display(c_slider)\n",
    "display(m_slider)"
   ]
  },
  {
   "attachments": {},
   "cell_type": "markdown",
   "metadata": {},
   "source": [
    "The above code creates two integer sliders which let the user select parameter values between limits that we have defined. This lets them visually select the values and interact with them. It is easy to then extract the values from the widgets by using the .value property, as below."
   ]
  },
  {
   "cell_type": "code",
   "execution_count": 3,
   "metadata": {},
   "outputs": [
    {
     "name": "stdout",
     "output_type": "stream",
     "text": [
      "M: 2\n",
      "C 3\n"
     ]
    },
    {
     "data": {
      "text/plain": [
       "<matplotlib.collections.PathCollection at 0x7f97f1726500>"
      ]
     },
     "execution_count": 3,
     "metadata": {},
     "output_type": "execute_result"
    },
    {
     "data": {
      "image/png": "[encoded data removed]",
      "text/plain": [
       "<Figure size 640x480 with 1 Axes>"
      ]
     },
     "metadata": {},
     "output_type": "display_data"
    }
   ],
   "source": [
    "print(\"M:\", m_slider.value)\n",
    "print(\"C\", c_slider.value)\n",
    "y = generate_y(x, m_slider.value, c_slider.value)\n",
    "plt.scatter(x, y)"
   ]
  },
  {
   "attachments": {},
   "cell_type": "markdown",
   "metadata": {},
   "source": [
    "Updating the chart with user input is easy, but in the above example a user changing the parameters doesn't automatically update the chart, we can change this by using observers. Observers are an important concept in web-development generally, but in this case what you need to know is that they allow you to set a function which is called when the state of a widget changes. Below, we will create two observers for the sliders which are called every time their value is changed, updating the chart. \n",
    "\n",
    "Because these are reactive to user input, you can use them to do all manner of interesting things, updating the charts and triggering analysis in response to the user input without requiring them to specifically click a prompt. "
   ]
  },
  {
   "cell_type": "code",
   "execution_count": 4,
   "metadata": {},
   "outputs": [
    {
     "data": {
      "application/vnd.jupyter.widget-view+json": {
       "model_id": "00ac47c4a4e848d39dcd4cb58ace913b",
       "version_major": 2,
       "version_minor": 0
      },
      "text/plain": [
       "Output()"
      ]
     },
     "metadata": {},
     "output_type": "display_data"
    },
    {
     "data": {
      "application/vnd.jupyter.widget-view+json": {
       "model_id": "969fde9daef74cfeade410edf61c3cf4",
       "version_major": 2,
       "version_minor": 0
      },
      "text/plain": [
       "IntSlider(value=2, description='M:', max=10)"
      ]
     },
     "metadata": {},
     "output_type": "display_data"
    },
    {
     "data": {
      "application/vnd.jupyter.widget-view+json": {
       "model_id": "38c28963d914470592625032b5991897",
       "version_major": 2,
       "version_minor": 0
      },
      "text/plain": [
       "IntSlider(value=3, description='C:', max=10)"
      ]
     },
     "metadata": {},
     "output_type": "display_data"
    }
   ],
   "source": [
    "%matplotlib inline\n",
    "\n",
    "plot_display = widgets.Output()\n",
    "with plot_display:\n",
    "    y = generate_y(x, 2, 3)\n",
    "    fig, ax = plt.subplots()\n",
    "    chart = ax.scatter(x, y)\n",
    "    plt.show()\n",
    "\n",
    "m_slider = widgets.IntSlider(\n",
    "    value=2,\n",
    "    min=0,\n",
    "    max=10,\n",
    "    step=1,\n",
    "    description='M:')\n",
    "\n",
    "c_slider = widgets.IntSlider(\n",
    "    value=3,\n",
    "    min=0,\n",
    "    max=10,\n",
    "    step=1,\n",
    "    description='C:')\n",
    "\n",
    "\n",
    "\n",
    "def update_chart(change):\n",
    "    y = generate_y(x, m_slider.value, c_slider.value)\n",
    "    plot_display.clear_output(wait=True)\n",
    "    with plot_display:\n",
    "        fig, ax = plt.subplots()\n",
    "        chart = ax.scatter(x, y)\n",
    "        plt.show()\n",
    "\n",
    "\n",
    "m_slider.observe(update_chart, names='value')\n",
    "c_slider.observe(update_chart, names='value')\n",
    "\n",
    "display(plot_display)\n",
    "display(m_slider)\n",
    "display(c_slider)"
   ]
  },
  {
   "attachments": {},
   "cell_type": "markdown",
   "metadata": {},
   "source": [
    "There's a load of different ways to handle this kind of interaction, including using buttons and listening for mouseclicks. Depending on what the goals are of the application, and what computation you are doing, you might use a different approach. If you are generating data in a computationally intensive way, you might not want to re-run all your code every time the user updates something, instead using a button to start that process. \n",
    "\n",
    "Now, it is your turn, in the following exercises, you will create some basic interactive tools and use them to generate and visualise data. "
   ]
  },
  {
   "cell_type": "code",
   "execution_count": 5,
   "metadata": {},
   "outputs": [],
   "source": [
    "#Exercise 1: Re-write the generation function so the data is exponential (x^m + c) rather than linear and plot the data\n",
    "\n"
   ]
  },
  {
   "cell_type": "code",
   "execution_count": 6,
   "metadata": {},
   "outputs": [
    {
     "data": {
      "application/vnd.jupyter.widget-view+json": {
       "model_id": "006b454045874608b942fd0cdee106e5",
       "version_major": 2,
       "version_minor": 0
      },
      "text/plain": [
       "Dropdown(options=('Item 1', 'Item 2'), value='Item 1')"
      ]
     },
     "metadata": {},
     "output_type": "display_data"
    }
   ],
   "source": [
    "#Exercise 2: Vary visualisation parameters with a dropdown menu\n",
    "# Hint: Use the widgets.Dropdown() function\n",
    "# Dropdown menus work in basically the same way as the sliders, but with categorical options which you specify by hand\n",
    "# The goal is to create a dropdown which will allow the user to change from linear to exponential\n",
    "\n",
    "example_dropdown = widgets.Dropdown(options=['Item 1', 'Item 2'])\n",
    "display(example_dropdown)\n",
    "\n",
    "\n"
   ]
  },
  {
   "cell_type": "code",
   "execution_count": 7,
   "metadata": {},
   "outputs": [
    {
     "data": {
      "application/vnd.jupyter.widget-view+json": {
       "model_id": "886597e9a6414ea8bf2d4af91bedbb55",
       "version_major": 2,
       "version_minor": 0
      },
      "text/plain": [
       "Button(description='Reset', style=ButtonStyle())"
      ]
     },
     "metadata": {},
     "output_type": "display_data"
    }
   ],
   "source": [
    "#Exercise 3: Add a button to reset the visualisation\n",
    "# Hint: Use the widgets.Button() function\n",
    "# Buttons are widgets which you can click to trigger an action\n",
    "# You can specify the action by passing a function to the button's on_click() method\n",
    "\n",
    "example_button = widgets.Button(description='Reset')\n",
    "example_button.on_click(lambda x: print('Button clicked!'))\n",
    "display(example_button)"
   ]
  },
  {
   "cell_type": "code",
   "execution_count": 8,
   "metadata": {},
   "outputs": [],
   "source": [
    "## Exercise 1 solution\n",
    "\n",
    "def generate_y_exp(x, m=2, c=3):\n",
    "    return x**m + c"
   ]
  },
  {
   "cell_type": "code",
   "execution_count": 9,
   "metadata": {},
   "outputs": [
    {
     "data": {
      "application/vnd.jupyter.widget-view+json": {
       "model_id": "d45a1c67933f45f59d3f1ca94ab43864",
       "version_major": 2,
       "version_minor": 0
      },
      "text/plain": [
       "Output()"
      ]
     },
     "metadata": {},
     "output_type": "display_data"
    },
    {
     "data": {
      "application/vnd.jupyter.widget-view+json": {
       "model_id": "44c106eebdc64a33b10d6d752f11cf50",
       "version_major": 2,
       "version_minor": 0
      },
      "text/plain": [
       "IntSlider(value=2, description='M:', max=10)"
      ]
     },
     "metadata": {},
     "output_type": "display_data"
    },
    {
     "data": {
      "application/vnd.jupyter.widget-view+json": {
       "model_id": "46d6b4e4784a4408916a9b63966903d9",
       "version_major": 2,
       "version_minor": 0
      },
      "text/plain": [
       "IntSlider(value=3, description='C:', max=10)"
      ]
     },
     "metadata": {},
     "output_type": "display_data"
    },
    {
     "data": {
      "application/vnd.jupyter.widget-view+json": {
       "model_id": "f205275b463a44828d36089fc8dde1e0",
       "version_major": 2,
       "version_minor": 0
      },
      "text/plain": [
       "Dropdown(options=('Linear', 'Exponential'), value='Linear')"
      ]
     },
     "metadata": {},
     "output_type": "display_data"
    }
   ],
   "source": [
    "# Exercise 2 solution\n",
    "\n",
    "modal_dropdown = widgets.Dropdown(options=['Linear', 'Exponential'])\n",
    "\n",
    "plot_display = widgets.Output()\n",
    "with plot_display:\n",
    "    y = generate_y(x, 2, 3)\n",
    "    fig, ax = plt.subplots()\n",
    "    chart = ax.scatter(x, y)\n",
    "    plt.show()\n",
    "\n",
    "m_slider = widgets.IntSlider(\n",
    "    value=2,\n",
    "    min=0,\n",
    "    max=10,\n",
    "    step=1,\n",
    "    description='M:')\n",
    "\n",
    "c_slider = widgets.IntSlider(\n",
    "    value=3,\n",
    "    min=0,\n",
    "    max=10,\n",
    "    step=1,\n",
    "    description='C:')\n",
    "\n",
    "\n",
    "\n",
    "def update_chart(change):\n",
    "    if modal_dropdown.value == 'Linear':\n",
    "        y = generate_y(x, m_slider.value, c_slider.value)\n",
    "    else:\n",
    "        y = generate_y_exp(x, m_slider.value, c_slider.value)\n",
    "    plot_display.clear_output(wait=True)\n",
    "    with plot_display:\n",
    "        fig, ax = plt.subplots()\n",
    "        chart = ax.scatter(x, y)\n",
    "        plt.show()\n",
    "\n",
    "modal_dropdown.observe(update_chart, names='value')\n",
    "c_slider.observe(update_chart, names='value')\n",
    "m_slider.observe(update_chart, names='value')\n",
    "\n",
    "\n",
    "display(plot_display)\n",
    "display(m_slider)\n",
    "display(c_slider)\n",
    "display(modal_dropdown)"
   ]
  }
 ],
 "metadata": {
  "kernelspec": {
   "display_name": "GIScienceWorkshop",
   "language": "python",
   "name": "python3"
  },
  "language_info": {
   "codemirror_mode": {
    "name": "ipython",
    "version": 3
   },
   "file_extension": ".py",
   "mimetype": "text/x-python",
   "name": "python",
   "nbconvert_exporter": "python",
   "pygments_lexer": "ipython3",
   "version": "3.10.13"
  },
  "widgets": {
   "application/vnd.jupyter.widget-state+json": {
    "state": {
     "006b454045874608b942fd0cdee106e5": {
      "model_module": "@jupyter-widgets/controls",
      "model_module_version": "2.0.0",
      "model_name": "DropdownModel",
      "state": {
       "_dom_classes": [],
       "_model_module": "@jupyter-widgets/controls",
       "_model_module_version": "2.0.0",
       "_model_name": "DropdownModel",
       "_options_labels": [
        "Item 1",
        "Item 2"
       ],
       "_view_count": null,
       "_view_module": "@jupyter-widgets/controls",
       "_view_module_version": "2.0.0",
       "_view_name": "DropdownView",
       "description": "",
       "description_allow_html": false,
       "disabled": false,
       "index": 0,
       "layout": "IPY_MODEL_e98da379c3e948609fcc268f9fde1850",
       "style": "IPY_MODEL_192d245bf9d04af78f2cee01875881a1",
       "tabbable": null,
       "tooltip": null
      }
     },
     "00ac47c4a4e848d39dcd4cb58ace913b": {
      "model_module": "@jupyter-widgets/output",
      "model_module_version": "1.0.0",
      "model_name": "OutputModel",
      "state": {
       "_dom_classes": [],
       "_model_module": "@jupyter-widgets/output",
       "_model_module_version": "1.0.0",
       "_model_name": "OutputModel",
       "_view_count": null,
       "_view_module": "@jupyter-widgets/output",
       "_view_module_version": "1.0.0",
       "_view_name": "OutputView",
       "layout": "IPY_MODEL_84234adbfd2a4e84a336e9be4e31cd72",
       "msg_id": "",
       "outputs": [
        {
         "data": {
          "image/png": "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",
          "text/plain": "<Figure size 640x480 with 1 Axes>"
         },
         "metadata": {},
         "output_type": "display_data"
        }
       ],
       "tabbable": null,
       "tooltip": null
      }
     },
     "121941b3fcd1481ea88cff24a978118f": {
      "model_module": "@jupyter-widgets/base",
      "model_module_version": "2.0.0",
      "model_name": "LayoutModel",
      "state": {
       "_model_module": "@jupyter-widgets/base",
       "_model_module_version": "2.0.0",
       "_model_name": "LayoutModel",
       "_view_count": null,
       "_view_module": "@jupyter-widgets/base",
       "_view_module_version": "2.0.0",
       "_view_name": "LayoutView",
       "align_content": null,
       "align_items": null,
       "align_self": null,
       "border_bottom": null,
       "border_left": null,
       "border_right": null,
       "border_top": null,
       "bottom": null,
       "display": null,
       "flex": null,
       "flex_flow": null,
       "grid_area": null,
       "grid_auto_columns": null,
       "grid_auto_flow": null,
       "grid_auto_rows": null,
       "grid_column": null,
       "grid_gap": null,
       "grid_row": null,
       "grid_template_areas": null,
       "grid_template_columns": null,
       "grid_template_rows": null,
       "height": null,
       "justify_content": null,
       "justify_items": null,
       "left": null,
       "margin": null,
       "max_height": null,
       "max_width": null,
       "min_height": null,
       "min_width": null,
       "object_fit": null,
       "object_position": null,
       "order": null,
       "overflow": null,
       "padding": null,
       "right": null,
       "top": null,
       "visibility": null,
       "width": null
      }
     },
     "177070df20e247faac7b2ccbeddd2d36": {
      "model_module": "@jupyter-widgets/base",
      "model_module_version": "2.0.0",
      "model_name": "LayoutModel",
      "state": {
       "_model_module": "@jupyter-widgets/base",
       "_model_module_version": "2.0.0",
       "_model_name": "LayoutModel",
       "_view_count": null,
       "_view_module": "@jupyter-widgets/base",
       "_view_module_version": "2.0.0",
       "_view_name": "LayoutView",
       "align_content": null,
       "align_items": null,
       "align_self": null,
       "border_bottom": null,
       "border_left": null,
       "border_right": null,
       "border_top": null,
       "bottom": null,
       "display": null,
       "flex": null,
       "flex_flow": null,
       "grid_area": null,
       "grid_auto_columns": null,
       "grid_auto_flow": null,
       "grid_auto_rows": null,
       "grid_column": null,
       "grid_gap": null,
       "grid_row": null,
       "grid_template_areas": null,
       "grid_template_columns": null,
       "grid_template_rows": null,
       "height": null,
       "justify_content": null,
       "justify_items": null,
       "left": null,
       "margin": null,
       "max_height": null,
       "max_width": null,
       "min_height": null,
       "min_width": null,
       "object_fit": null,
       "object_position": null,
       "order": null,
       "overflow": null,
       "padding": null,
       "right": null,
       "top": null,
       "visibility": null,
       "width": null
      }
     },
     "18f999aadbe34d05b36d731e53504b0e": {
      "model_module": "@jupyter-widgets/controls",
      "model_module_version": "2.0.0",
      "model_name": "SliderStyleModel",
      "state": {
       "_model_module": "@jupyter-widgets/controls",
       "_model_module_version": "2.0.0",
       "_model_name": "SliderStyleModel",
       "_view_count": null,
       "_view_module": "@jupyter-widgets/base",
       "_view_module_version": "2.0.0",
       "_view_name": "StyleView",
       "description_width": "",
       "handle_color": null
      }
     },
     "192d245bf9d04af78f2cee01875881a1": {
      "model_module": "@jupyter-widgets/controls",
      "model_module_version": "2.0.0",
      "model_name": "DescriptionStyleModel",
      "state": {
       "_model_module": "@jupyter-widgets/controls",
       "_model_module_version": "2.0.0",
       "_model_name": "DescriptionStyleModel",
       "_view_count": null,
       "_view_module": "@jupyter-widgets/base",
       "_view_module_version": "2.0.0",
       "_view_name": "StyleView",
       "description_width": ""
      }
     },
     "2211d43f101146a397833b06fea019f4": {
      "model_module": "@jupyter-widgets/controls",
      "model_module_version": "2.0.0",
      "model_name": "ButtonStyleModel",
      "state": {
       "_model_module": "@jupyter-widgets/controls",
       "_model_module_version": "2.0.0",
       "_model_name": "ButtonStyleModel",
       "_view_count": null,
       "_view_module": "@jupyter-widgets/base",
       "_view_module_version": "2.0.0",
       "_view_name": "StyleView",
       "button_color": null,
       "font_family": null,
       "font_size": null,
       "font_style": null,
       "font_variant": null,
       "font_weight": null,
       "text_color": null,
       "text_decoration": null
      }
     },
     "32190b9f7c494b43b9bae844d0423704": {
      "model_module": "@jupyter-widgets/controls",
      "model_module_version": "2.0.0",
      "model_name": "IntSliderModel",
      "state": {
       "_dom_classes": [],
       "_model_module": "@jupyter-widgets/controls",
       "_model_module_version": "2.0.0",
       "_model_name": "IntSliderModel",
       "_view_count": null,
       "_view_module": "@jupyter-widgets/controls",
       "_view_module_version": "2.0.0",
       "_view_name": "IntSliderView",
       "behavior": "drag-tap",
       "continuous_update": true,
       "description": "C:",
       "description_allow_html": false,
       "disabled": false,
       "layout": "IPY_MODEL_cadaf7ea218640ebb5bbcd412d9ff52e",
       "max": 10,
       "min": 0,
       "orientation": "horizontal",
       "readout": true,
       "readout_format": "d",
       "step": 1,
       "style": "IPY_MODEL_d20f9e248a334bf2a70e8afbdd08bcb5",
       "tabbable": null,
       "tooltip": null,
       "value": 3
      }
     },
     "35ce915bda674353b9beea94fd2442fb": {
      "model_module": "@jupyter-widgets/base",
      "model_module_version": "2.0.0",
      "model_name": "LayoutModel",
      "state": {
       "_model_module": "@jupyter-widgets/base",
       "_model_module_version": "2.0.0",
       "_model_name": "LayoutModel",
       "_view_count": null,
       "_view_module": "@jupyter-widgets/base",
       "_view_module_version": "2.0.0",
       "_view_name": "LayoutView",
       "align_content": null,
       "align_items": null,
       "align_self": null,
       "border_bottom": null,
       "border_left": null,
       "border_right": null,
       "border_top": null,
       "bottom": null,
       "display": null,
       "flex": null,
       "flex_flow": null,
       "grid_area": null,
       "grid_auto_columns": null,
       "grid_auto_flow": null,
       "grid_auto_rows": null,
       "grid_column": null,
       "grid_gap": null,
       "grid_row": null,
       "grid_template_areas": null,
       "grid_template_columns": null,
       "grid_template_rows": null,
       "height": null,
       "justify_content": null,
       "justify_items": null,
       "left": null,
       "margin": null,
       "max_height": null,
       "max_width": null,
       "min_height": null,
       "min_width": null,
       "object_fit": null,
       "object_position": null,
       "order": null,
       "overflow": null,
       "padding": null,
       "right": null,
       "top": null,
       "visibility": null,
       "width": null
      }
     },
     "38c28963d914470592625032b5991897": {
      "model_module": "@jupyter-widgets/controls",
      "model_module_version": "2.0.0",
      "model_name": "IntSliderModel",
      "state": {
       "_dom_classes": [],
       "_model_module": "@jupyter-widgets/controls",
       "_model_module_version": "2.0.0",
       "_model_name": "IntSliderModel",
       "_view_count": null,
       "_view_module": "@jupyter-widgets/controls",
       "_view_module_version": "2.0.0",
       "_view_name": "IntSliderView",
       "behavior": "drag-tap",
       "continuous_update": true,
       "description": "C:",
       "description_allow_html": false,
       "disabled": false,
       "layout": "IPY_MODEL_f3ba8b5d6be2410abf670c83914f6256",
       "max": 10,
       "min": 0,
       "orientation": "horizontal",
       "readout": true,
       "readout_format": "d",
       "step": 1,
       "style": "IPY_MODEL_18f999aadbe34d05b36d731e53504b0e",
       "tabbable": null,
       "tooltip": null,
       "value": 3
      }
     },
     "42aeb3f3b4894320a47c44efb8159a3b": {
      "model_module": "@jupyter-widgets/controls",
      "model_module_version": "2.0.0",
      "model_name": "SliderStyleModel",
      "state": {
       "_model_module": "@jupyter-widgets/controls",
       "_model_module_version": "2.0.0",
       "_model_name": "SliderStyleModel",
       "_view_count": null,
       "_view_module": "@jupyter-widgets/base",
       "_view_module_version": "2.0.0",
       "_view_name": "StyleView",
       "description_width": "",
       "handle_color": null
      }
     },
     "44c106eebdc64a33b10d6d752f11cf50": {
      "model_module": "@jupyter-widgets/controls",
      "model_module_version": "2.0.0",
      "model_name": "IntSliderModel",
      "state": {
       "_dom_classes": [],
       "_model_module": "@jupyter-widgets/controls",
       "_model_module_version": "2.0.0",
       "_model_name": "IntSliderModel",
       "_view_count": null,
       "_view_module": "@jupyter-widgets/controls",
       "_view_module_version": "2.0.0",
       "_view_name": "IntSliderView",
       "behavior": "drag-tap",
       "continuous_update": true,
       "description": "M:",
       "description_allow_html": false,
       "disabled": false,
       "layout": "IPY_MODEL_5f6010dcd2624f05a0409b27be5b628c",
       "max": 10,
       "min": 0,
       "orientation": "horizontal",
       "readout": true,
       "readout_format": "d",
       "step": 1,
       "style": "IPY_MODEL_f9b4fbf55e944a289941a96f0355a5af",
       "tabbable": null,
       "tooltip": null,
       "value": 2
      }
     },
     "46d6b4e4784a4408916a9b63966903d9": {
      "model_module": "@jupyter-widgets/controls",
      "model_module_version": "2.0.0",
      "model_name": "IntSliderModel",
      "state": {
       "_dom_classes": [],
       "_model_module": "@jupyter-widgets/controls",
       "_model_module_version": "2.0.0",
       "_model_name": "IntSliderModel",
       "_view_count": null,
       "_view_module": "@jupyter-widgets/controls",
       "_view_module_version": "2.0.0",
       "_view_name": "IntSliderView",
       "behavior": "drag-tap",
       "continuous_update": true,
       "description": "C:",
       "description_allow_html": false,
       "disabled": false,
       "layout": "IPY_MODEL_d101ad6b331a40cf85621f56bd967cd4",
       "max": 10,
       "min": 0,
       "orientation": "horizontal",
       "readout": true,
       "readout_format": "d",
       "step": 1,
       "style": "IPY_MODEL_42aeb3f3b4894320a47c44efb8159a3b",
       "tabbable": null,
       "tooltip": null,
       "value": 3
      }
     },
     "5026f0484e5c426bb9779df815625520": {
      "model_module": "@jupyter-widgets/controls",
      "model_module_version": "2.0.0",
      "model_name": "IntSliderModel",
      "state": {
       "_dom_classes": [],
       "_model_module": "@jupyter-widgets/controls",
       "_model_module_version": "2.0.0",
       "_model_name": "IntSliderModel",
       "_view_count": null,
       "_view_module": "@jupyter-widgets/controls",
       "_view_module_version": "2.0.0",
       "_view_name": "IntSliderView",
       "behavior": "drag-tap",
       "continuous_update": true,
       "description": "M:",
       "description_allow_html": false,
       "disabled": false,
       "layout": "IPY_MODEL_d21d839ffb974b9dba0d6858c1084b52",
       "max": 10,
       "min": 0,
       "orientation": "horizontal",
       "readout": true,
       "readout_format": "d",
       "step": 1,
       "style": "IPY_MODEL_50abf6b60db44d6d91b6b8bc51157f85",
       "tabbable": null,
       "tooltip": null,
       "value": 2
      }
     },
     "50abf6b60db44d6d91b6b8bc51157f85": {
      "model_module": "@jupyter-widgets/controls",
      "model_module_version": "2.0.0",
      "model_name": "SliderStyleModel",
      "state": {
       "_model_module": "@jupyter-widgets/controls",
       "_model_module_version": "2.0.0",
       "_model_name": "SliderStyleModel",
       "_view_count": null,
       "_view_module": "@jupyter-widgets/base",
       "_view_module_version": "2.0.0",
       "_view_name": "StyleView",
       "description_width": "",
       "handle_color": null
      }
     },
     "5f6010dcd2624f05a0409b27be5b628c": {
      "model_module": "@jupyter-widgets/base",
      "model_module_version": "2.0.0",
      "model_name": "LayoutModel",
      "state": {
       "_model_module": "@jupyter-widgets/base",
       "_model_module_version": "2.0.0",
       "_model_name": "LayoutModel",
       "_view_count": null,
       "_view_module": "@jupyter-widgets/base",
       "_view_module_version": "2.0.0",
       "_view_name": "LayoutView",
       "align_content": null,
       "align_items": null,
       "align_self": null,
       "border_bottom": null,
       "border_left": null,
       "border_right": null,
       "border_top": null,
       "bottom": null,
       "display": null,
       "flex": null,
       "flex_flow": null,
       "grid_area": null,
       "grid_auto_columns": null,
       "grid_auto_flow": null,
       "grid_auto_rows": null,
       "grid_column": null,
       "grid_gap": null,
       "grid_row": null,
       "grid_template_areas": null,
       "grid_template_columns": null,
       "grid_template_rows": null,
       "height": null,
       "justify_content": null,
       "justify_items": null,
       "left": null,
       "margin": null,
       "max_height": null,
       "max_width": null,
       "min_height": null,
       "min_width": null,
       "object_fit": null,
       "object_position": null,
       "order": null,
       "overflow": null,
       "padding": null,
       "right": null,
       "top": null,
       "visibility": null,
       "width": null
      }
     },
     "6de2934a0a41404bb7d97c35fa308ee6": {
      "model_module": "@jupyter-widgets/controls",
      "model_module_version": "2.0.0",
      "model_name": "DescriptionStyleModel",
      "state": {
       "_model_module": "@jupyter-widgets/controls",
       "_model_module_version": "2.0.0",
       "_model_name": "DescriptionStyleModel",
       "_view_count": null,
       "_view_module": "@jupyter-widgets/base",
       "_view_module_version": "2.0.0",
       "_view_name": "StyleView",
       "description_width": ""
      }
     },
     "84234adbfd2a4e84a336e9be4e31cd72": {
      "model_module": "@jupyter-widgets/base",
      "model_module_version": "2.0.0",
      "model_name": "LayoutModel",
      "state": {
       "_model_module": "@jupyter-widgets/base",
       "_model_module_version": "2.0.0",
       "_model_name": "LayoutModel",
       "_view_count": null,
       "_view_module": "@jupyter-widgets/base",
       "_view_module_version": "2.0.0",
       "_view_name": "LayoutView",
       "align_content": null,
       "align_items": null,
       "align_self": null,
       "border_bottom": null,
       "border_left": null,
       "border_right": null,
       "border_top": null,
       "bottom": null,
       "display": null,
       "flex": null,
       "flex_flow": null,
       "grid_area": null,
       "grid_auto_columns": null,
       "grid_auto_flow": null,
       "grid_auto_rows": null,
       "grid_column": null,
       "grid_gap": null,
       "grid_row": null,
       "grid_template_areas": null,
       "grid_template_columns": null,
       "grid_template_rows": null,
       "height": null,
       "justify_content": null,
       "justify_items": null,
       "left": null,
       "margin": null,
       "max_height": null,
       "max_width": null,
       "min_height": null,
       "min_width": null,
       "object_fit": null,
       "object_position": null,
       "order": null,
       "overflow": null,
       "padding": null,
       "right": null,
       "top": null,
       "visibility": null,
       "width": null
      }
     },
     "886597e9a6414ea8bf2d4af91bedbb55": {
      "model_module": "@jupyter-widgets/controls",
      "model_module_version": "2.0.0",
      "model_name": "ButtonModel",
      "state": {
       "_dom_classes": [],
       "_model_module": "@jupyter-widgets/controls",
       "_model_module_version": "2.0.0",
       "_model_name": "ButtonModel",
       "_view_count": null,
       "_view_module": "@jupyter-widgets/controls",
       "_view_module_version": "2.0.0",
       "_view_name": "ButtonView",
       "button_style": "",
       "description": "Reset",
       "disabled": false,
       "icon": "",
       "layout": "IPY_MODEL_8f5efc363bca46bd8c9a5e87422518aa",
       "style": "IPY_MODEL_2211d43f101146a397833b06fea019f4",
       "tabbable": null,
       "tooltip": null
      }
     },
     "8f5efc363bca46bd8c9a5e87422518aa": {
      "model_module": "@jupyter-widgets/base",
      "model_module_version": "2.0.0",
      "model_name": "LayoutModel",
      "state": {
       "_model_module": "@jupyter-widgets/base",
       "_model_module_version": "2.0.0",
       "_model_name": "LayoutModel",
       "_view_count": null,
       "_view_module": "@jupyter-widgets/base",
       "_view_module_version": "2.0.0",
       "_view_name": "LayoutView",
       "align_content": null,
       "align_items": null,
       "align_self": null,
       "border_bottom": null,
       "border_left": null,
       "border_right": null,
       "border_top": null,
       "bottom": null,
       "display": null,
       "flex": null,
       "flex_flow": null,
       "grid_area": null,
       "grid_auto_columns": null,
       "grid_auto_flow": null,
       "grid_auto_rows": null,
       "grid_column": null,
       "grid_gap": null,
       "grid_row": null,
       "grid_template_areas": null,
       "grid_template_columns": null,
       "grid_template_rows": null,
       "height": null,
       "justify_content": null,
       "justify_items": null,
       "left": null,
       "margin": null,
       "max_height": null,
       "max_width": null,
       "min_height": null,
       "min_width": null,
       "object_fit": null,
       "object_position": null,
       "order": null,
       "overflow": null,
       "padding": null,
       "right": null,
       "top": null,
       "visibility": null,
       "width": null
      }
     },
     "969fde9daef74cfeade410edf61c3cf4": {
      "model_module": "@jupyter-widgets/controls",
      "model_module_version": "2.0.0",
      "model_name": "IntSliderModel",
      "state": {
       "_dom_classes": [],
       "_model_module": "@jupyter-widgets/controls",
       "_model_module_version": "2.0.0",
       "_model_name": "IntSliderModel",
       "_view_count": null,
       "_view_module": "@jupyter-widgets/controls",
       "_view_module_version": "2.0.0",
       "_view_name": "IntSliderView",
       "behavior": "drag-tap",
       "continuous_update": true,
       "description": "M:",
       "description_allow_html": false,
       "disabled": false,
       "layout": "IPY_MODEL_35ce915bda674353b9beea94fd2442fb",
       "max": 10,
       "min": 0,
       "orientation": "horizontal",
       "readout": true,
       "readout_format": "d",
       "step": 1,
       "style": "IPY_MODEL_d6dc7ab89c1d41948c446f351a9f474c",
       "tabbable": null,
       "tooltip": null,
       "value": 2
      }
     },
     "cadaf7ea218640ebb5bbcd412d9ff52e": {
      "model_module": "@jupyter-widgets/base",
      "model_module_version": "2.0.0",
      "model_name": "LayoutModel",
      "state": {
       "_model_module": "@jupyter-widgets/base",
       "_model_module_version": "2.0.0",
       "_model_name": "LayoutModel",
       "_view_count": null,
       "_view_module": "@jupyter-widgets/base",
       "_view_module_version": "2.0.0",
       "_view_name": "LayoutView",
       "align_content": null,
       "align_items": null,
       "align_self": null,
       "border_bottom": null,
       "border_left": null,
       "border_right": null,
       "border_top": null,
       "bottom": null,
       "display": null,
       "flex": null,
       "flex_flow": null,
       "grid_area": null,
       "grid_auto_columns": null,
       "grid_auto_flow": null,
       "grid_auto_rows": null,
       "grid_column": null,
       "grid_gap": null,
       "grid_row": null,
       "grid_template_areas": null,
       "grid_template_columns": null,
       "grid_template_rows": null,
       "height": null,
       "justify_content": null,
       "justify_items": null,
       "left": null,
       "margin": null,
       "max_height": null,
       "max_width": null,
       "min_height": null,
       "min_width": null,
       "object_fit": null,
       "object_position": null,
       "order": null,
       "overflow": null,
       "padding": null,
       "right": null,
       "top": null,
       "visibility": null,
       "width": null
      }
     },
     "d101ad6b331a40cf85621f56bd967cd4": {
      "model_module": "@jupyter-widgets/base",
      "model_module_version": "2.0.0",
      "model_name": "LayoutModel",
      "state": {
       "_model_module": "@jupyter-widgets/base",
       "_model_module_version": "2.0.0",
       "_model_name": "LayoutModel",
       "_view_count": null,
       "_view_module": "@jupyter-widgets/base",
       "_view_module_version": "2.0.0",
       "_view_name": "LayoutView",
       "align_content": null,
       "align_items": null,
       "align_self": null,
       "border_bottom": null,
       "border_left": null,
       "border_right": null,
       "border_top": null,
       "bottom": null,
       "display": null,
       "flex": null,
       "flex_flow": null,
       "grid_area": null,
       "grid_auto_columns": null,
       "grid_auto_flow": null,
       "grid_auto_rows": null,
       "grid_column": null,
       "grid_gap": null,
       "grid_row": null,
       "grid_template_areas": null,
       "grid_template_columns": null,
       "grid_template_rows": null,
       "height": null,
       "justify_content": null,
       "justify_items": null,
       "left": null,
       "margin": null,
       "max_height": null,
       "max_width": null,
       "min_height": null,
       "min_width": null,
       "object_fit": null,
       "object_position": null,
       "order": null,
       "overflow": null,
       "padding": null,
       "right": null,
       "top": null,
       "visibility": null,
       "width": null
      }
     },
     "d20f9e248a334bf2a70e8afbdd08bcb5": {
      "model_module": "@jupyter-widgets/controls",
      "model_module_version": "2.0.0",
      "model_name": "SliderStyleModel",
      "state": {
       "_model_module": "@jupyter-widgets/controls",
       "_model_module_version": "2.0.0",
       "_model_name": "SliderStyleModel",
       "_view_count": null,
       "_view_module": "@jupyter-widgets/base",
       "_view_module_version": "2.0.0",
       "_view_name": "StyleView",
       "description_width": "",
       "handle_color": null
      }
     },
     "d21d839ffb974b9dba0d6858c1084b52": {
      "model_module": "@jupyter-widgets/base",
      "model_module_version": "2.0.0",
      "model_name": "LayoutModel",
      "state": {
       "_model_module": "@jupyter-widgets/base",
       "_model_module_version": "2.0.0",
       "_model_name": "LayoutModel",
       "_view_count": null,
       "_view_module": "@jupyter-widgets/base",
       "_view_module_version": "2.0.0",
       "_view_name": "LayoutView",
       "align_content": null,
       "align_items": null,
       "align_self": null,
       "border_bottom": null,
       "border_left": null,
       "border_right": null,
       "border_top": null,
       "bottom": null,
       "display": null,
       "flex": null,
       "flex_flow": null,
       "grid_area": null,
       "grid_auto_columns": null,
       "grid_auto_flow": null,
       "grid_auto_rows": null,
       "grid_column": null,
       "grid_gap": null,
       "grid_row": null,
       "grid_template_areas": null,
       "grid_template_columns": null,
       "grid_template_rows": null,
       "height": null,
       "justify_content": null,
       "justify_items": null,
       "left": null,
       "margin": null,
       "max_height": null,
       "max_width": null,
       "min_height": null,
       "min_width": null,
       "object_fit": null,
       "object_position": null,
       "order": null,
       "overflow": null,
       "padding": null,
       "right": null,
       "top": null,
       "visibility": null,
       "width": null
      }
     },
     "d45a1c67933f45f59d3f1ca94ab43864": {
      "model_module": "@jupyter-widgets/output",
      "model_module_version": "1.0.0",
      "model_name": "OutputModel",
      "state": {
       "_dom_classes": [],
       "_model_module": "@jupyter-widgets/output",
       "_model_module_version": "1.0.0",
       "_model_name": "OutputModel",
       "_view_count": null,
       "_view_module": "@jupyter-widgets/output",
       "_view_module_version": "1.0.0",
       "_view_name": "OutputView",
       "layout": "IPY_MODEL_121941b3fcd1481ea88cff24a978118f",
       "msg_id": "",
       "outputs": [
        {
         "data": {
          "image/png": "iVBORw0KGgoAAAANSUhEUgAAAh8AAAGdCAYAAACyzRGfAAAAOXRFWHRTb2Z0d2FyZQBNYXRwbG90bGliIHZlcnNpb24zLjcuMiwgaHR0cHM6Ly9tYXRwbG90bGliLm9yZy8pXeV/AAAACXBIWXMAAA9hAAAPYQGoP6dpAAAtsUlEQVR4nO3de3TU9Z3/8dckhAnBZDBgmElBHCDUxoAaEbkrICxgsyrWrSIttv25ooACv1ZR7AlZhVC71e4axWL359alqHt+3siajUap4I1CiQghPXIxUrZMfilEZiKQIDPf3x8xkZjrfDPzndvzcc6cNt/5foe3ORzn5efy/tgMwzAEAABgkaRIFwAAABIL4QMAAFiK8AEAACxF+AAAAJYifAAAAEsRPgAAgKUIHwAAwFKEDwAAYKk+kS7gmwKBgI4ePar09HTZbLZIlwMAAHrAMAw1NDQoOztbSUldj21EXfg4evSohg4dGukyAACACUeOHNGQIUO6vCfqwkd6erqk5uIzMjIiXA0AAOgJn8+noUOHtn6PdyXqwkfLVEtGRgbhAwCAGNOTJRMsOAUAAJYifAAAAEsRPgAAgKUIHwAAwFKEDwAAYCnCBwAAsBThAwAAWIrwAQAALBV1TcYAAEB4+AOGdtTUq66hUVnpqRrnzlRykvXnqBE+AABIAOVVHhWVVsvjbWy95nKkqrAgV7PzXJbWwrQLAABxrrzKo7s2VrYJHpJU623UXRsrVV7lsbQewgcAAHHMHzBUVFoto4P3Wq4VlVbLH+jojvAIKnwUFxfryiuvVHp6urKysnTDDTfok08+aXPP7bffLpvN1uY1fvz4kBYNAAB6ZkdNfbsRj3MZkjzeRu2oqbespqDCx9atW7V48WJt375dFRUVOnv2rGbNmqWTJ0+2uW/27NnyeDytr7KyspAWDQAAeqauofPgYea+UAhqwWl5eXmbn5999lllZWVp165dmjp1aut1u90up9MZmgoBAIBpWempIb0vFHq15sPr9UqSMjMz21x/5513lJWVpVGjRumOO+5QXV1dp5/R1NQkn8/X5gUAAEJjnDtTLkeqOttQa1Pzrpdx7sxO7gg90+HDMAytWLFCkydPVl5eXuv1OXPm6Pe//722bNmiX/3qV9q5c6emT5+upqamDj+nuLhYDoej9TV06FCzJQEAgG9ITrKpsCBXktoFkJafCwtyLe33YTMMw9Ty1sWLF+v111/Xe++9pyFDhnR6n8fj0bBhw/TCCy9o3rx57d5vampqE0x8Pp+GDh0qr9erjIwMM6UBAIBvCHefD5/PJ4fD0aPvb1NNxpYuXarNmzdr27ZtXQYPSXK5XBo2bJgOHDjQ4ft2u112u91MGQAAoIdm57k0M9cZex1ODcPQ0qVL9corr+idd96R2+3u9pnjx4/ryJEjcrms7Z4GAADaSk6yacKIgZEuI7g1H4sXL9bGjRu1adMmpaenq7a2VrW1tTp9+rQk6YsvvtBPf/pTffjhh/rss8/0zjvvqKCgQIMGDdKNN94Yln8AAAAQW4Ja82GzdTw08+yzz+r222/X6dOndcMNN+ijjz7SiRMn5HK5NG3aND388MM9XkgazJwRAACIDmFb89FdTunXr5/eeOONYD4SAAAkGM52AQAAliJ8AAAASxE+AACApQgfAADAUoQPAABgKcIHAACwFOEDAABYivABAAAsRfgAAACWInwAAABLET4AAIClCB8AAMBShA8AAGApwgcAALAU4QMAAFiK8AEAACxF+AAAAJYifAAAAEsRPgAAgKUIHwAAwFKEDwAAYCnCBwAAsBThAwAAWIrwAQAALEX4AAAAliJ8AAAASxE+AACApQgfAADAUoQPAABgKcIHAACwFOEDAABYivABAAAsRfgAAACWInwAAABLET4AAIClCB8AAMBShA8AAGApwgcAALBUn0gXAABAKPkDhrYfOq4PPz0myaYJIwZq/PCBSk6yRbo0fIXwAQCIG+VVHq18ea9OnPqy9VrJHw5qQFqK1s0brdl5rghWhxZMuwAA4kJ5lUeLNla2CR4tTpz6Uos2Vqq8yhOByvBNhA8AQMzzBwyt3ryv2/uKSqvlDxgWVISuED4AADFvR029an1N3d7n8TZqR029BRWhK4QPAEDMq2toDMu9CA/CBwAg5mWlp4blXoQHu10AADHDHzC0o6ZedQ2NykpP1Th3ppKTbBrnzpQzw97t1IvL0fwMIovwAQCICeVVHhWVVsvj/XraxOVIVWFBrmbnubT67y/Roo2VXX5GYUEu/T6iANMuAICoV17l0V0bK9sED0mq9Tbqrq+20M7Oc+npBfkakJbS7vnz01L09IJ8+nxECUY+AABRzR8wVFRarY42yBqSbGreQjsz16nZeS7NzHXS4TTKET4AAFFtR019uxGPcxn6egvthBHNIWNSziBNyhlkXZEICtMuAICo1tOtsWyhjR2MfAAAoso3d7QMOs/eo+fYQhs7CB8AgKjgDxgq2XJQz75foxOnvz6fxZlh14C0FHlPfdnhug+bJCdbaGMK4QMAEHFle47qZy/t0ckmf7v3/p+vqTV02KQ2AaRlCSlbaGML4QMAEFHFZdX6zbaaTt9v2dHiSEtRap9k1fq+XtvhPKfPB2IH4QMAEBH+gKEn3j7QZfBoYUg6cepL/f4n+UpKsrXrcIrYQvgAAFiuvMqj1Zv39egk2nMdO9mk6y/7VpiqglUIHwAAS7V0K+1o8Wh32NESH+jzAQCwTFfdSrvDoXDxg5EPAEBYndu341hDU5fdSjtjEzta4gnhAwAQFs19Ow7o2fc/a9O3I1gD+vXRupvGsKMljhA+AAAhV17l0cqX9+rEKfOhQ5K+O8alf7nlckY84kxQaz6Ki4t15ZVXKj09XVlZWbrhhhv0ySeftLnHMAytXr1a2dnZ6tevn6655hrt27cvpEUDAKJXy4LS3gSPzP599dT8fJXMzyd4xKGgwsfWrVu1ePFibd++XRUVFTp79qxmzZqlkydPtt7z6KOP6rHHHlNJSYl27twpp9OpmTNnqqGhIeTFAwCiS28WlLZYfm2Odq66VnPHMM0Sr2yGYZj+O/K3v/1NWVlZ2rp1q6ZOnSrDMJSdna1ly5bp/vvvlyQ1NTVp8ODB+sUvfqE777yz28/0+XxyOBzyer3KyMgwWxoAwEIti0rfP3hMJX84aOozXHQrjWnBfH/3as2H1+uVJGVmNm99qqmpUW1trWbNmtV6j91u19VXX60PPvigw/DR1NSkpqavm8z4fL7elAQAsFhzw7DqNm3Pe+rn131Hg9LtdCtNMKbDh2EYWrFihSZPnqy8vDxJUm1trSRp8ODBbe4dPHiwDh8+3OHnFBcXq6ioyGwZAIAIKq/yaNHGSlPPuhypun2Sm8CRgEw3GVuyZIn27Nmj559/vt17Nlvbv0iGYbS71uKBBx6Q1+ttfR05csRsSQAAC/kDhla+vNf08/TtSFymRj6WLl2qzZs3a9u2bRoyZEjrdafTKal5BMTl+nrOrq6urt1oSAu73S673W6mDABABG3/9LipHS0D0lK0bt5o1nYksKBGPgzD0JIlS/Tyyy9ry5Ytcrvdbd53u91yOp2qqKhovXbmzBlt3bpVEydODE3FAICo8OGh40HdPyAtRcuvHaVdD80keCS4oEY+Fi9erE2bNum1115Tenp66xoPh8Ohfv36yWazadmyZVq7dq1ycnKUk5OjtWvXKi0tTfPnzw/LPwAAIFJ6tllyVu5g/WiSmwWlaBVU+Fi/fr0k6Zprrmlz/dlnn9Xtt98uSbrvvvt0+vRp3X333fr888911VVX6c0331R6enpICgYARIcJwwep5A+Hur1v4YSLNGHEQAsqQqzoVZ+PcKDPBwDEBn/A0BWPVHS57mNAWop2PTSTEY8EEMz3t+ndLgCAxJacZNO6eaO7vGfdvNEED7RD+AAAmDY7z6WnF+TLmdF216Izw66nF+SzsBQd4lRbAECvzM5zaWauUztq6lXX0Ei3UnSL8AEA6LXkJBuLStFjTLsAAABLET4AAIClCB8AAMBShA8AAGApwgcAALAU4QMAAFiK8AEAACxF+AAAAJaiyRgAxCF/wKDjKKIW4QMA4kx5lUdFpdXyeBtbr7kcqSosyOWsFUQFpl0AII6UV3l018bKNsFDkmq9jbprY6XKqzwRqgz4GuEDAOLEmbMBPfhKlYwO3mu5VlRaLX+gozsA6xA+ACAOlFd5NL74LdWfPNPpPYYkj7dRO2rqrSsM6ABrPgAgxrVMtfR0PKOuobH7m4AwYuQDAGKYP2CoqLS6x8FDkrLSU8NWD9ATjHwAQAzbUVPfbnFpZ2ySnI7mbbdAJDHyAQAxLNgplMKCXPp9IOIY+QCAGNFR47CeTqEM7N9Xa27Mo88HogLhAwBiQNkejx56rarNbhaXI1U/vy5XLkeqar2Nna77yOyfog8fmKG+fRjsRnTgbyIARLnismrdvamy3TZaj7dRizdV6u8vbR7N+OZkiu2r19obRxM8EFX42wgAUcgfMPT+wWNa9B9/0m+21XR6nyFp88cePTn/cjkdbadgnI5UrV+Qz1QLog7TLgAQZcqrPFr58l6dOPVlj+73eBt1fn+73rt/OofJISYQPgAgipRXebRoY2XQz9U1NCo5yaYJIwaGoSogtAgfABAF/AFDHxw8pv/9nx+bep7GYYglhA8AiLBgp1m+aWD/vjQOQ0whfABABJmdZjnXw9fnsbYDMYXdLgAQIWfOBvTAy3t79Rl3TnVr7hh2syC2MPIBABbzBwyVbDmoDdsO6eQZv6nPOD+tj9bcMFpzx2SHuDog/AgfAGCRltDxm22HdMpk6JCk5deO0pLpI5lqQcwifACABXq7qFSSBqSlaN280TQNQ8wjfABAmJXtOaq7N31k+vnz7MlaP/8KTcwZxGgH4gLhAwDCqGyPR0ueNx88JOmfb75UU759QYgqAiKP8AEAYVJe5dHdm8xvoz0/LUXFTLMgDhE+ACCE/AFD2w8d1/uH/qbnPjxs6jP625P19G1XaOJIplkQnwgfABAioVhUapP0q5sv1ZRRTLMgfhE+ACAEQtGplGkWJArCBwD0Um87lfbvm6x/nDpcS6bnMM2ChED4AIBeKK/y6MFX9upzE1MtNkn3zBipe2aMInQgoRA+AMCk8iqP7tpYKcPk80/Oz+dcFiQkwgcAmOAPGCoqrTYVPFyOVBUW5LK2AwmL8AEAJuyoqZfH2xjUMwP6pejJ2/I1fvhAplmQ0AgfAGBCXUNwwUOS1t00WpNGDgpDNUBsSYp0AQAQi7LSU3t87/lpKXp6QT7TLMBXGPkAABPGuTPlcqSq1tvY6boPOpUCHWPkAwBMSE6yqbAgV1Lzltlz2dS2UynBA2iL8AEA5/AHDH146Lhe2/1XfXjouPyBzvezzM5zaf2CfDkdbadgnI5UrWeaBegU0y4A8JWyPUf10GtVqj/5dcOw7rbFzs5zaWauUztq6lXX0Kis9FSNc2cy2gF0wWYYhtn+OGHh8/nkcDjk9XqVkZER6XIAJIg1r+/TM+9+1uF7NomRDKAbwXx/M+0CIOGteb260+AhSYakotLqLqdgAPQc4QNAQivb49Ez79Z0e5/H26gdNfUWVATEP9Z8AEhI/oCh7YeO676XPu7xM2YaiwFoj/ABIOGUV3lUVFoddHv0YBqLAegc4QNAQinb49HdmyqDfi6zf4rGuTPDUBGQeAgfABJG2Z6jWvL8R6aefeT6PLbPAiFC+AAQ9/wBQyVbDujxtw6Yev6OKRdp7pjsEFcFJC7CB4C4VrbnqFa9WqXPT33Z/c0duGOKW6uuyw1xVUBiI3wAiEv+gKF7X/hI/7XHY+r5gf376uHr8zR3DI3FgFAjfACIK81TLAf1m22HdOqMP+jnB/RL0ZO35Wv88IGs8QDCJOgmY9u2bVNBQYGys7Nls9n06quvtnn/9ttvl81ma/MaP358qOoFgE6VV3l0xSMVevyt/aaChyStu2m0Jo0cRPAAwijo8HHy5EldeumlKikp6fSe2bNny+PxtL7Kysp6VSQAdKdsz1Et2lipEybXdiTZpKfmc34LYIWgp13mzJmjOXPmdHmP3W6X0+k0XRQABKP046O65wVzW2hblNx6Oes7AIuE5WyXd955R1lZWRo1apTuuOMO1dXVheOPAQAVl1Vr6fMfyez53M4Mu55ekM9WWsBCIV9wOmfOHN18880aNmyYampq9POf/1zTp0/Xrl27ZLfb293f1NSkpqam1p99Pl+oSwIQh86cDeiBlz/WS5VHTX/GvTNydM+MHNZ3ABYLefj4/ve/3/r/8/LyNHbsWA0bNkyvv/665s2b1+7+4uJiFRUVhboMAHFszev79Nt3P1NvDri/c6pby2eOCllNAHouLNMu53K5XBo2bJgOHOi4s+ADDzwgr9fb+jpy5Ei4SwIQw+54bqee6UXwOM/eR0/Nz9cDc2kcBkRK2Pt8HD9+XEeOHJHL1fFCLrvd3uF0DACcyx8w9C8V+1VRbW4NWf++yfrHqcO1ZDrTLECkBR0+vvjiCx08eLD155qaGu3evVuZmZnKzMzU6tWrddNNN8nlcumzzz7Tgw8+qEGDBunGG28MaeEAEkd5lUerN+9Tra+p+5s7sGzGSC2dMYrQAUSJoMPHn/70J02bNq315xUrVkiSFi5cqPXr12vv3r167rnndOLECblcLk2bNk0vvvii0tPTQ1c1gIRRXuXRXRsrTU+zPHHr5Sq4lJ0sQDQJOnxcc801MrrY0/bGG2/0qiAAkJp3s/zug8/0eMV+08HjzqluggcQhTjbBUDUKS6r1jPv1ihgMnUM6NdHa28cTe8OIEoRPgBEjd6eRCtJ14126l9vzWd9BxDFCB8AIq7lJNp/e+9T+RrPmv6cmblZevK2K0JYGYBwIHwAiKjyKo9WvrzX9IFwkpSR2kdrbhzN+g4gRhA+AERMeZVHizZW9uozll+bQ+8OIMYQPgBEhD9gqKi02vTzLkeqCgtyNTuPk2iBWEP4AGApf8DQjpp6vX/wmDzexqCft9mk524fp4k5gxjtAGIU4QOAZcqrPCoqrTYVOlr84xS3pnz7ghBWBcBqhA8AYdeym+Xxt/ab/owkm3THFDcHwgFxgPABIKx6ey6LJH0vf4jWzhutvn3CfhA3AAsQPgCETW/PZTk/LUXF80azqBSIM4QPAGHRspvFTPAY0C9FP5p0EVtogThF+AAQUl/vZvlb0AtLl0wboUkjL9A4dyahA4hjhA8AIVO256geeq1K9SeD61Zqk+R0pGr5zG8TOoAEQPgAEBLFZdX6zbYa088XFuQSPIAEQfgA0GtlezymgwedSoHEQ/gAYJo/YGj7oeO676WPTT3PuSxAYiJ8ADClN91KGe0AEhvhA0BQ/AFDv35rv57YcjDoZ5dMG6lJIwexmwVIcIQPAD1WXuXRihd369SXgaCfzeyfouUzRxE6ABA+AHQvFGezPHJ9HsEDgCTCB4BulO05qlWvVunzU8H17jjXnVPdmjsmO4RVAYhlhA8AnVrzerWeedd8746B/fvq4evzNHcMC0sBfI3wAaBDj5RW67fvmwseA/ql6Mnb8jV++ECmWgC0Q/gA0M7D/1Wlf3v/sOnn1900WpNGDgphRQDiSVKkCwAQXda8Xq1/e8988Ci55TL6dwDoEiMfACQ172h54u0DvVrj8ZPJbn33sm+FsCoA8YjwASS4lm20/+e9T+VtPGv6c2bmZunn380NYWUA4hXhA0hg5VUerXx5r070YhvtefZkrbtxNCMeAHqM8AEkqLI9Ht29qdL089O+fYH+ceoIWqUDCBrhA0hAZXuOasnzH5l+/n9NcuuhAqZYAJhD+AASSPP6jgN6/K0Dpj/jJ5OH6SHWdgDoBcIHkCDKqzxavblatb5G059xxxS3Vl1H8ADQO4QPIAGUV3l018ZKGSafz+zfV4/QJh1AiBA+gDjnDxgqKq02HTyWX5ujJdNzWFQKIGQIH0Cc8gcM7aip1/sHj8njDX6q5fy0FBXPG023UgAhR/gA4kxLp9LfvvepvmjyB/28TdK9M3K0dAajHQDCg/ABxJHyKo9W/OfHOnUm+NDR4sn5l2vumOwQVgUAbRE+gDhRXuXRoo3mm4Y5M+xa/feXMM0CIOwIH0CM8wcMbf/0uO5/aY/pz1h+7SgtmT6SaRYAliB8ADGsvMqjotJqUwtKJcnlSFVhQS6jHQAsRfgAYlDLSbSPv7Xf1PNLpo3QpJEXcC4LgIggfAAxprlT6T7V+ppMPT+wf18tn/ltQgeAiCF8ADGktyfRStLD1+cRPABEFOEDiBG9PYlWku6c6qZFOoCII3wAUa636zsk6Tx7sh69aQz9OwBEBcIHEMV6s77jPHuyfjjhIk0aOUjjhw9kqgVA1CB8AFGqNyfR2iT9882XsoUWQFQifABRqDcn0dK7A0C0I3wAUeTM2YD+48PP9MeaelONw5Zfm6Ml0zkQDkB0I3wAUaK4rFrPvFujgInhjiSbVHJrPjtZAMQEwgcQBda83hw8zCq59XKCB4CYQfgAIsgfMPTrt/abDh6s7wAQiwgfQISUV3m08uW9OnHqS1PPs74DQKwifAARUF7l0aKN5tqkM9oBINYRPgCLtWyjDdYNl2Xr+1deyEm0AGIe4QOwQMsW2sP1p2QYRtDbaJNs0qPfu1R9+ySFqUIAsA7hAwiz3myhbXHHFDfBA0DcIHwAYVRcVq3fbDO/hVZqDh4PzM0NUUUAEHmEDyBMzpwN9Kp3hySV3HKZvnvZt0JUEQBEB8IHECb/8eFnpqdazk9LUfG80exoARCXCB9AmByuPxX0MwP6pehHky6ifweAuEb4AELAHzC0o6ZedQ2NykpP1Th3poZlpvXo2R+Mv1BjL8psfY7QASDeBb18ftu2bSooKFB2drZsNpteffXVNu8bhqHVq1crOztb/fr10zXXXKN9+/aFql4g6pTt8ejKNW/p1me2694XduvWZ7Zr8i+2KCsjVd3liCSb9PPvXqLrL/uWJowYSPAAkBCCDh8nT57UpZdeqpKSkg7ff/TRR/XYY4+ppKREO3fulNPp1MyZM9XQ0NDrYoFoU1xWrbs3Var+5Jk21z3eRt3z/Eea8Z2sLp9nCy2ARBT0v/XmzJmjRx55RPPmzWv3nmEY+vWvf61Vq1Zp3rx5ysvL0+9+9zudOnVKmzZtCknBQLQo23O0y220hqSqv/p0x5SL2o2AJNmkO6eyhRZAYgrpmo+amhrV1tZq1qxZrdfsdruuvvpqffDBB7rzzjvbPdPU1KSmpqbWn30+XyhLAkLOHzC0/dBx/ez/7un2Xo+3UdMvdupnf/ed1g6nwzLT9IMJFzHiASBhhTR81NbWSpIGDx7c5vrgwYN1+PDhDp8pLi5WUVFRKMsAwqa8yqOi0uqg2qPXNTSqb58k/WTK8DBWBgCxIyz/6WWztR1jNgyj3bUWDzzwgLxeb+vryJEj4SgJ6LXyKo/u2lgZ9LksWempYaoIAGJTSEc+nE6npOYREJfr6+ZIdXV17UZDWtjtdtnt9lCWAYRcy0m0wfYMG9i/r8a5M8NSEwDEqpCOfLjdbjmdTlVUVLReO3PmjLZu3aqJEyeG8o8CLOEPGPrw0HE9XrE/6BEPSXr4+jy2zwLANwQ98vHFF1/o4MGDrT/X1NRo9+7dyszM1IUXXqhly5Zp7dq1ysnJUU5OjtauXau0tDTNnz8/pIUD4WZmfce57pzq1twxtEcHgG8KOnz86U9/0rRp01p/XrFihSRp4cKF+vd//3fdd999On36tO6++259/vnnuuqqq/Tmm28qPT09dFUDYdayvsPM0SyZ/VP0yPV5mjsmO+R1AUA8sBmGYfLoq/Dw+XxyOBzyer3KyMiIdDlIMP6Aoe2fHtfi31fqxOkvg3p2QL8UPXlbvsYPp1MpgMQTzPc3Z7sAXzE7zdISM9bdNFqTRg4KfWEAEGcIH0h4/oChki0H9fhb+00973SkqrAgV7PzWN8BAD1B+EBCK9vj0apX9+rzU8FNsUjSkmkjNGnkBZxECwBBInwgYRWXVXd5NktnbGoe7Vg+89uEDgAwgfCBhOMPGHri7f2mg4ckFRbkEjwAwCTCBxJKeZVHqzdXq9ZnrncH6zsAoPcIH0gYvendMSAtRU/emq/xI9hGCwC9RfhA3PMHDG0/dFwrX9prKnjYJK2bN1qTcthGCwChQPhA3PIHDP3r2/v123drdPKM39RnuJhmAYCQI3wgLpVXebTiPz/WKZOhQ5KWzcjR0hk5TLMAQIgRPhB3yqs8WrSxslefcedUt5bNHBWiigAA5yJ8IK74A4buf2mP6efPT+ujNTeM5lA4AAgjwgfiyvZPj8t7+qypZ5dfO0pLpo9kmgUAwozwgbjy4aHjQT/DolIAsBbhAzHLHzC0o6ZedQ2NykpP1Th3phTEZtr+fZO14YdjNX44vTsAwEqED8Sk8iqPikqr5fF+3anU5UjV98cO7fFn/PJ7YzRpJL07AMBqhA/EnM46ldZ6G/Uvbx9QWt/kbrfY3jHFzaJSAIiQpEgXAATDHzBUVFrd4eRKyzV7n67/Wt8xxa1V1+WGvDYAQM8QPhBTdtTUt5lq+SZD0uenvtTya3PkzLC3ee/8tBQ9Nf9yggcARBjTLogpdQ09O432okH99f7KGe0WpLKwFAAij/CBmJKVntrj+5KTbJowYmCYKwIABItpF8SUce5MuRyp6mz8wqbmXS/N224BANGI8IGYkpxkU2FB85qNbwaQlp8LC3KZXgGAKEb4QMyZnefS+gX5cjraTsE4HalavyCfTqUAEOVY84GYNDvPpZm5ThaUAkAMInwgZrGgFABiE9MuAADAUoQPAABgKcIHAACwFOEDAABYigWnsIQ/YLAzBQAgifCBMPMHDJVsOaBn3/9MJ05/2Xrd5UhVYUEuPTkAIAEx7YKwKa/y6IpHKvT4WwfaBA9JqvU26q6NlSqv8kSoOgBApBA+EBblVR7dtbFSJ0592eH7xlf/W1RaLX/A6PAeAEB8InwgpPwBQ+8fPKaVL+1Vd5HCkOTxNmpHTb0VpQEAogRrPhAy5VUeFZVWy+NtDOq5uobg7gcAxDbCB0KiZZrFzARKVnpq9zcBAOIG0y7oNX/AUFFptang4XI0b7sFACQOwgd6bUdNfdBTLS0KC3Lp9wEACYbwgV4zs2ZjQFqKnl6QT58PAEhArPlArwWzZmNAWop+NNGtJdNHMuIBAAmK8IFeG+fOlMuRqlpvY6frPgakpejJW/M1fsRAQgcAJDimXdBryUk2FRbkSpK+GStsX73WzRutSTmDCB4AAMIHuuYPGPrw0HG9tvuv+vDQ8U67kc7Oc2n9gnw5HW2nYJyOVK1nbQcA4BxMu6BTHTUN6+pAuNl5Ls3MdXJ6LQCgSzbDMKLqYA2fzyeHwyGv16uMjIxIl5OwOmsa1hIjGM0AAJwrmO9vpl3QTldNwzgQDgDQW4QPtGpZ3/F4xSddNg3jQDgAQG+w5gOSzB0Kx4FwAAAzCB8wfSgcB8IBAMwgfCQ4M4fC2dS8hZYD4QAAZrDmI8EFeyhcy24XDoQDAJjFyEeCC3bdhrOLPh8AAPQE4SPB+ANGmyZgg86z9+i5JdNGatLIQTQNAwD0GuEjgXS0o8WZYdeAtBR5T33Z4bqPlvUdy2eOInQAAEKC8JEgOtvR8v98Ta3XbFKb91nfAQAIBxacJoDuOpba1Hzk/eAMDoUDAIQfIx8JoLsdLYakE6e+1O9/kq+kJBuHwgEAworwkQB6uqPl2MkmXX/Zt8JcDQAg0THtkgB62omUjqUAACsQPhLAOHemXI5UdTaBYpPkomMpAMAihI8EkJxkU2FBriS1CyDsaAEAWC3k4WP16tWy2WxtXk6nM9R/DII0O8+l9Qvy5XSwowUAEFlhWXB6ySWX6K233mr9OTk5ORx/DII0O8+lmbnONh1O2dECALBaWMJHnz59GO2IUslJNk0YMTDSZQAAElhY1nwcOHBA2dnZcrvduuWWW/Tpp592em9TU5N8Pl+bFwAAiF8hDx9XXXWVnnvuOb3xxht65plnVFtbq4kTJ+r48eMd3l9cXCyHw9H6Gjp0aKhLAgAAUcRmGEZHXbdD5uTJkxoxYoTuu+8+rVixot37TU1Nampqav3Z5/Np6NCh8nq9ysjICGdpAAAgRHw+nxwOR4++v8Pe4bR///4aPXq0Dhw40OH7drtddnvPjnUHAACxL+x9PpqamvTnP/9ZLhdbOQEAQBjCx09/+lNt3bpVNTU1+uMf/6jvfe978vl8WrhwYaj/KAAAEINCPu3yP//zP7r11lt17NgxXXDBBRo/fry2b9+uYcOGhfqPAgAAMSjk4eOFF14I9UcCAIA4wtkuAADAUoQPAABgKcIHAACwFOEDAABYivABAAAsFfYOp2jmDxgcZQ8AgAgflijb49FDr1Wp/uSZ1msuR6oKC3I1O4/OrwCAxMK0Sxj5A4aWbKrU3Zsq2wQPSfJ4G3XXxkqVV3kiVB0AAJFB+AiT8iqP8h9+U/+1p/NwYUgqKq2WPxDWg4UBAIgqhI8wKK/yaNHGSnlPn+32Xo+3UTtq6i2oCgCA6ED4CDF/wFBRaXVQz9Q1NIapGgAAog/hI8R21NTL4w0uTGSlp4apGgAAog/hI8SCHcUY2L+vxrkzw1QNAADRh/ARYsGOYjx8fR79PgAACYXwEWLj3JlyOVLVkzhx51S35o6hzwcAILEQPkIsOcmmwoJcSeo0gJxnT9ZT8y/XA3NzrSsMAIAoQfgIg9l5Lq1fkC+no+0UzIB+KVp+bY4+Lvw7zR2THaHqAACILNqrh8nsPJdm5jo5zwUAgG8gfIRRcpJNE0YMjHQZAABEFaZdAACApQgfAADAUoQPAABgKcIHAACwFOEDAABYivABAAAsRfgAAACWInwAAABLET4AAIClEqbDqT9g0OocAIAokBDho7zKo6LSanm8ja3XXI5UFRbkanYeR9oDAGCluJ92Ka/y6K6NlW2ChyTVeht118ZKlVd5IlQZAACJKa7Dhz9gqKi0WkYH77VcKyqtlj/Q0R0AACAc4jp87KipbzficS5DksfbqB019dYVBQBAgovr8FHX0HnwMHMfAADovbgOH1npqSG9DwAA9F5ch49x7ky5HKnqbEOtTc27Xsa5M60sCwCAhBbX4SM5yabCglxJahdAWn4uLMil3wcAABaK6/AhSbPzXFq/IF9OR9upFacjVesX5NPnAwAAiyVEk7HZeS7NzHXS4RQAgCiQEOFDap6CmTBiYKTLAAAg4cX9tAsAAIguhA8AAGApwgcAALAU4QMAAFiK8AEAACxF+AAAAJYifAAAAEsRPgAAgKUIHwAAwFJR1+HUMAxJks/ni3AlAACgp1q+t1u+x7sSdeGjoaFBkjR06NAIVwIAAILV0NAgh8PR5T02oycRxUKBQEBHjx5Venq6bLboOfjN5/Np6NChOnLkiDIyMiJdTszg92Yevzvz+N2Zw+/NPH53zSMeDQ0Nys7OVlJS16s6om7kIykpSUOGDIl0GZ3KyMhI2L9YvcHvzTx+d+bxuzOH35t5if67627EowULTgEAgKUIHwAAwFKEjx6y2+0qLCyU3W6PdCkxhd+befzuzON3Zw6/N/P43QUn6hacAgCA+MbIBwAAsBThAwAAWIrwAQAALEX4AAAAliJ89MBTTz0lt9ut1NRUXXHFFXr33XcjXVLUKy4u1pVXXqn09HRlZWXphhtu0CeffBLpsmJOcXGxbDabli1bFulSYsJf//pXLViwQAMHDlRaWpouu+wy7dq1K9JlRb2zZ8/qoYcektvtVr9+/TR8+HD90z/9kwKBQKRLizrbtm1TQUGBsrOzZbPZ9Oqrr7Z53zAMrV69WtnZ2erXr5+uueYa7du3LzLFRjHCRzdefPFFLVu2TKtWrdJHH32kKVOmaM6cOfrLX/4S6dKi2tatW7V48WJt375dFRUVOnv2rGbNmqWTJ09GurSYsXPnTm3YsEFjxoyJdCkx4fPPP9ekSZOUkpKi//7v/1Z1dbV+9atfacCAAZEuLer94he/0NNPP62SkhL9+c9/1qOPPqpf/vKXeuKJJyJdWtQ5efKkLr30UpWUlHT4/qOPPqrHHntMJSUl2rlzp5xOp2bOnNl6bhm+YqBL48aNMxYtWtTm2sUXX2ysXLkyQhXFprq6OkOSsXXr1kiXEhMaGhqMnJwco6Kiwrj66quNe++9N9IlRb3777/fmDx5cqTLiEnXXXed8eMf/7jNtXnz5hkLFiyIUEWxQZLxyiuvtP4cCAQMp9NprFu3rvVaY2Oj4XA4jKeffjoCFUYvRj66cObMGe3atUuzZs1qc33WrFn64IMPIlRVbPJ6vZKkzMzMCFcSGxYvXqzrrrtO1157baRLiRmbN2/W2LFjdfPNNysrK0uXX365nnnmmUiXFRMmT56st99+W/v375ckffzxx3rvvfc0d+7cCFcWW2pqalRbW9vmO8Nut+vqq6/mO+Mbou5guWhy7Ngx+f1+DR48uM31wYMHq7a2NkJVxR7DMLRixQpNnjxZeXl5kS4n6r3wwguqrKzUzp07I11KTPn000+1fv16rVixQg8++KB27Nihe+65R3a7XT/84Q8jXV5Uu//+++X1enXxxRcrOTlZfr9fa9as0a233hrp0mJKy/dCR98Zhw8fjkRJUYvw0QM2m63Nz4ZhtLuGzi1ZskR79uzRe++9F+lSot6RI0d077336s0331Rqamqky4kpgUBAY8eO1dq1ayVJl19+ufbt26f169cTPrrx4osvauPGjdq0aZMuueQS7d69W8uWLVN2drYWLlwY6fJiDt8Z3SN8dGHQoEFKTk5uN8pRV1fXLtmiY0uXLtXmzZu1bds2DRkyJNLlRL1du3aprq5OV1xxRes1v9+vbdu2qaSkRE1NTUpOTo5ghdHL5XIpNze3zbXvfOc7eumllyJUUez42c9+ppUrV+qWW26RJI0ePVqHDx9WcXEx4SMITqdTUvMIiMvlar3Od0Z7rPnoQt++fXXFFVeooqKizfWKigpNnDgxQlXFBsMwtGTJEr388svasmWL3G53pEuKCTNmzNDevXu1e/fu1tfYsWN12223affu3QSPLkyaNKnddu79+/dr2LBhEaoodpw6dUpJSW2/DpKTk9lqGyS32y2n09nmO+PMmTPaunUr3xnfwMhHN1asWKEf/OAHGjt2rCZMmKANGzboL3/5ixYtWhTp0qLa4sWLtWnTJr322mtKT09vHT1yOBzq169fhKuLXunp6e3WxfTv318DBw5kvUw3li9frokTJ2rt2rX6h3/4B+3YsUMbNmzQhg0bIl1a1CsoKNCaNWt04YUX6pJLLtFHH32kxx57TD/+8Y8jXVrU+eKLL3Tw4MHWn2tqarR7925lZmbqwgsv1LJly7R27Vrl5OQoJydHa9euVVpamubPnx/BqqNQZDfbxIYnn3zSGDZsmNG3b18jPz+f7aI9IKnD17PPPhvp0mIOW217rrS01MjLyzPsdrtx8cUXGxs2bIh0STHB5/MZ9957r3HhhRcaqampxvDhw41Vq1YZTU1NkS4t6vzhD3/o8N9tCxcuNAyjebttYWGh4XQ6DbvdbkydOtXYu3dvZIuOQjbDMIwI5R4AAJCAWPMBAAAsRfgAAACWInwAAABLET4AAIClCB8AAMBShA8AAGApwgcAALAU4QMAAFiK8AEAACxF+AAAAJYifAAAAEsRPgAAgKX+Pz3KljxycP9gAAAAAElFTkSuQmCC",
          "text/plain": "<Figure size 640x480 with 1 Axes>"
         },
         "metadata": {},
         "output_type": "display_data"
        }
       ],
       "tabbable": null,
       "tooltip": null
      }
     },
     "d6dc7ab89c1d41948c446f351a9f474c": {
      "model_module": "@jupyter-widgets/controls",
      "model_module_version": "2.0.0",
      "model_name": "SliderStyleModel",
      "state": {
       "_model_module": "@jupyter-widgets/controls",
       "_model_module_version": "2.0.0",
       "_model_name": "SliderStyleModel",
       "_view_count": null,
       "_view_module": "@jupyter-widgets/base",
       "_view_module_version": "2.0.0",
       "_view_name": "StyleView",
       "description_width": "",
       "handle_color": null
      }
     },
     "e98da379c3e948609fcc268f9fde1850": {
      "model_module": "@jupyter-widgets/base",
      "model_module_version": "2.0.0",
      "model_name": "LayoutModel",
      "state": {
       "_model_module": "@jupyter-widgets/base",
       "_model_module_version": "2.0.0",
       "_model_name": "LayoutModel",
       "_view_count": null,
       "_view_module": "@jupyter-widgets/base",
       "_view_module_version": "2.0.0",
       "_view_name": "LayoutView",
       "align_content": null,
       "align_items": null,
       "align_self": null,
       "border_bottom": null,
       "border_left": null,
       "border_right": null,
       "border_top": null,
       "bottom": null,
       "display": null,
       "flex": null,
       "flex_flow": null,
       "grid_area": null,
       "grid_auto_columns": null,
       "grid_auto_flow": null,
       "grid_auto_rows": null,
       "grid_column": null,
       "grid_gap": null,
       "grid_row": null,
       "grid_template_areas": null,
       "grid_template_columns": null,
       "grid_template_rows": null,
       "height": null,
       "justify_content": null,
       "justify_items": null,
       "left": null,
       "margin": null,
       "max_height": null,
       "max_width": null,
       "min_height": null,
       "min_width": null,
       "object_fit": null,
       "object_position": null,
       "order": null,
       "overflow": null,
       "padding": null,
       "right": null,
       "top": null,
       "visibility": null,
       "width": null
      }
     },
     "f205275b463a44828d36089fc8dde1e0": {
      "model_module": "@jupyter-widgets/controls",
      "model_module_version": "2.0.0",
      "model_name": "DropdownModel",
      "state": {
       "_dom_classes": [],
       "_model_module": "@jupyter-widgets/controls",
       "_model_module_version": "2.0.0",
       "_model_name": "DropdownModel",
       "_options_labels": [
        "Linear",
        "Exponential"
       ],
       "_view_count": null,
       "_view_module": "@jupyter-widgets/controls",
       "_view_module_version": "2.0.0",
       "_view_name": "DropdownView",
       "description": "",
       "description_allow_html": false,
       "disabled": false,
       "index": 0,
       "layout": "IPY_MODEL_177070df20e247faac7b2ccbeddd2d36",
       "style": "IPY_MODEL_6de2934a0a41404bb7d97c35fa308ee6",
       "tabbable": null,
       "tooltip": null
      }
     },
     "f3ba8b5d6be2410abf670c83914f6256": {
      "model_module": "@jupyter-widgets/base",
      "model_module_version": "2.0.0",
      "model_name": "LayoutModel",
      "state": {
       "_model_module": "@jupyter-widgets/base",
       "_model_module_version": "2.0.0",
       "_model_name": "LayoutModel",
       "_view_count": null,
       "_view_module": "@jupyter-widgets/base",
       "_view_module_version": "2.0.0",
       "_view_name": "LayoutView",
       "align_content": null,
       "align_items": null,
       "align_self": null,
       "border_bottom": null,
       "border_left": null,
       "border_right": null,
       "border_top": null,
       "bottom": null,
       "display": null,
       "flex": null,
       "flex_flow": null,
       "grid_area": null,
       "grid_auto_columns": null,
       "grid_auto_flow": null,
       "grid_auto_rows": null,
       "grid_column": null,
       "grid_gap": null,
       "grid_row": null,
       "grid_template_areas": null,
       "grid_template_columns": null,
       "grid_template_rows": null,
       "height": null,
       "justify_content": null,
       "justify_items": null,
       "left": null,
       "margin": null,
       "max_height": null,
       "max_width": null,
       "min_height": null,
       "min_width": null,
       "object_fit": null,
       "object_position": null,
       "order": null,
       "overflow": null,
       "padding": null,
       "right": null,
       "top": null,
       "visibility": null,
       "width": null
      }
     },
     "f9b4fbf55e944a289941a96f0355a5af": {
      "model_module": "@jupyter-widgets/controls",
      "model_module_version": "2.0.0",
      "model_name": "SliderStyleModel",
      "state": {
       "_model_module": "@jupyter-widgets/controls",
       "_model_module_version": "2.0.0",
       "_model_name": "SliderStyleModel",
       "_view_count": null,
       "_view_module": "@jupyter-widgets/base",
       "_view_module_version": "2.0.0",
       "_view_name": "StyleView",
       "description_width": "",
       "handle_color": null
      }
     }
    },
    "version_major": 2,
    "version_minor": 0
   }
  }
 },
 "nbformat": 4,
 "nbformat_minor": 2
}