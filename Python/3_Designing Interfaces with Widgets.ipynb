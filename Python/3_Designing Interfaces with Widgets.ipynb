{
 "cells": [
  {
   "attachments": {},
   "cell_type": "markdown",
   "metadata": {},
   "source": [
    "## Designing Interfaces with Widgets\n",
    "\n",
    "In the previous lesson, you created some visualisations and some widgets which could control them, but it didn't look that amazing. The layout of the buttons, widgets, sliders, and other elements your design can affect usability, readability, and the experience of those using the app. Luckily, ipywidgets makes it pretty easy to design layouts. "
   ]
  },
  {
   "cell_type": "code",
   "execution_count": null,
   "metadata": {},
   "outputs": [],
   "source": [
    "#First, we'll load the data and functions from the last notebook. \n",
    "\n",
    "import numpy as np\n",
    "import matplotlib.pyplot as plt\n",
    "import ipywidgets as widgets\n",
    "plot_display = widgets.Output()\n",
    "\n",
    "m_slider = widgets.IntSlider(\n",
    "    value=2,\n",
    "    min=0,\n",
    "    max=10,\n",
    "    step=1,\n",
    "    description='M:')\n",
    "\n",
    "c_slider = widgets.IntSlider(\n",
    "    value=3,\n",
    "    min=0,\n",
    "    max=10,\n",
    "    step=1,\n",
    "    description='C:')\n",
    "\n",
    "\n",
    "x = np.random.normal(5, 2, 100)\n",
    "def generate_y(x, m, c):\n",
    "    return m*x + c\n",
    "\n",
    "def update_chart(change):\n",
    "    y = generate_y(x, m_slider.value, c_slider.value)\n",
    "    plot_display.clear_output(wait=True)\n",
    "    with plot_display:\n",
    "        fig, ax = plt.subplots()\n",
    "        chart = ax.scatter(x, y)\n",
    "        plt.show()"
   ]
  },
  {
   "attachments": {},
   "cell_type": "markdown",
   "metadata": {},
   "source": [
    "Now, lets draw them all together as we did before: "
   ]
  },
  {
   "cell_type": "code",
   "execution_count": null,
   "metadata": {},
   "outputs": [],
   "source": [
    "with plot_display:\n",
    "    y = generate_y(x, 2, 3)\n",
    "    fig, ax = plt.subplots()\n",
    "    chart = ax.scatter(x, y)\n",
    "\n",
    "\n",
    "def update_chart(change):\n",
    "    y = generate_y(x, m_slider.value, c_slider.value)\n",
    "    plot_display.clear_output(wait=True)\n",
    "    with plot_display:\n",
    "        fig, ax = plt.subplots()\n",
    "        chart = ax.scatter(x, y)\n",
    "        plt.show()\n",
    "\n",
    "display(plot_display)\n",
    "display(m_slider)\n",
    "display(c_slider)\n",
    "\n",
    "m_slider.observe(update_chart, 'value')\n",
    "c_slider.observe(update_chart, 'value')"
   ]
  },
  {
   "attachments": {},
   "cell_type": "markdown",
   "metadata": {},
   "source": [
    "### Blocks and Boxes\n",
    "\n",
    "Using special box widgets, it is possible to put different widgets and displays together in order to create cohesive and pleasing interfaces. Because these are all python objects, you simply have to put them together in lists and structures as per your preference. These boxes are known as containers, and can contain widgets, visualisations, or other containers. Using these containers, it is possible and relatively easy to construct user interfaces based on the relative position of your widgets, containers, and visualisations. "
   ]
  },
  {
   "cell_type": "code",
   "execution_count": null,
   "metadata": {},
   "outputs": [],
   "source": [
    "#We will create a horizontal container to hold the sliders.\n",
    "widget_container = widgets.HBox([m_slider, c_slider])\n",
    "display(widget_container)"
   ]
  },
  {
   "attachments": {},
   "cell_type": "markdown",
   "metadata": {},
   "source": [
    "Notice how putting these widgets in the container doesn't affect their output or relationship to the rest of the widgets and visualisations, they still interact with the charts and callbacks you have defined. "
   ]
  },
  {
   "attachments": {},
   "cell_type": "markdown",
   "metadata": {},
   "source": [
    "Using a combination of these different grids, boxes, containers, and charts, it is possible to build quite complex and advanced interfaces, allowing users to select many options and visualisations without becoming overwhelmed by too many choices at once. Now, you will create some layouts of your own."
   ]
  },
  {
   "cell_type": "code",
   "execution_count": null,
   "metadata": {},
   "outputs": [],
   "source": [
    "#Exercise 1: Create a new layout with the sliders on the left and the chart on the right.\n",
    "\n"
   ]
  },
  {
   "cell_type": "code",
   "execution_count": null,
   "metadata": {},
   "outputs": [],
   "source": [
    "#Exercise 2: Create a layout with the chart on top, the sliders below on the left, and the dropdown menu on the right.  \n"
   ]
  },
  {
   "cell_type": "code",
   "execution_count": null,
   "metadata": {},
   "outputs": [],
   "source": [
    "#Exercise 3: Create a layout with two charts, one showing each of the two results from the dropdown menu (e.g. linear and exponential) on top, and\n",
    "#the sliders below on the left. Do not show the dropdown menu."
   ]
  },
  {
   "cell_type": "code",
   "execution_count": null,
   "metadata": {},
   "outputs": [],
   "source": [
    "#Exercise 1 solution: \n",
    "side_by_side_layout = widgets.HBox([widget_container, plot_display])\n",
    "display(side_by_side_layout)"
   ]
  },
  {
   "cell_type": "code",
   "execution_count": null,
   "metadata": {},
   "outputs": [],
   "source": [
    "#Exercise 2 solution:\n",
    "modal_dropdown = widgets.Dropdown(options=['Linear', 'Exponential'])\n",
    "widget_container_v = widgets.VBox([m_slider, c_slider])\n",
    "options_container = widgets.HBox([widget_container_v, modal_dropdown])\n",
    "\n",
    "ui_container = widgets.VBox([plot_display, options_container])\n",
    "display(ui_container)\n"
   ]
  },
  {
   "cell_type": "code",
   "execution_count": null,
   "metadata": {},
   "outputs": [],
   "source": [
    "def generate_y(x, m, c):\n",
    "    return m*x + c\n",
    "\n",
    "\n",
    "def generate_y_exp(x, m, c):\n",
    "    return x**m + c\n",
    "\n",
    "\n",
    "m_slider = widgets.IntSlider(\n",
    "    value=2,\n",
    "    min=0,\n",
    "    max=10,\n",
    "    step=1,\n",
    "    description='M:')\n",
    "\n",
    "c_slider = widgets.IntSlider(\n",
    "    value=3,\n",
    "    min=0,\n",
    "    max=10,\n",
    "    step=1,\n",
    "    description='C:')\n",
    "\n",
    "\n",
    "exp_plot_display = widgets.Output()\n",
    "lin_plot_display = widgets.Output()\n",
    "\n",
    "with exp_plot_display:\n",
    "    y = generate_y_exp(x, 2, 3)\n",
    "    e_fig, e_ax = plt.subplots(figsize=(3, 3))\n",
    "    exp_chart = e_ax.scatter(x, y)\n",
    "    plt.show()\n",
    "\n",
    "with lin_plot_display:\n",
    "    y = generate_y(x, 2, 3)\n",
    "    l_fig, l_ax = plt.subplots(figsize=(3, 3))\n",
    "    lin_chart = l_ax.scatter(x, y)\n",
    "    plt.show()\n",
    "\n",
    "def update_chart_new(change):\n",
    "    print(m_slider.value)\n",
    "    print(c_slider.value)\n",
    "\n",
    "    exp_plot_display.clear_output(wait=True)\n",
    "\n",
    "    with exp_plot_display:\n",
    "        y = generate_y_exp(x, m_slider.value, c_slider.value)\n",
    "        e_fig, e_ax = plt.subplots(figsize=(3, 3))\n",
    "        exp_chart = e_ax.scatter(x, y)\n",
    "        plt.show()\n",
    "\n",
    "    lin_plot_display.clear_output(wait=True)\n",
    "    with lin_plot_display:\n",
    "        y = generate_y(x, m_slider.value, c_slider.value)\n",
    "        l_fig, l_ax = plt.subplots(figsize=(3, 3))\n",
    "        lin_chart = l_ax.scatter(x, y)\n",
    "        plt.show()\n",
    "\n",
    "\n",
    "\n",
    "c_slider.observe(update_chart_new, 'value') \n",
    "m_slider.observe(update_chart_new, 'value')\n",
    "\n",
    "\n",
    "charts_container = widgets.HBox([exp_plot_display, lin_plot_display])\n",
    "two_charts_layout = widgets.VBox([charts_container, widget_container])\n",
    "two_charts_layout.observe(update_chart_new, 'value')\n",
    "display(two_charts_layout)\n"
   ]
  },
  {
   "cell_type": "code",
   "execution_count": null,
   "metadata": {},
   "outputs": [],
   "source": []
  }
 ],
 "metadata": {
  "kernelspec": {
   "display_name": "GIScienceWorkshop",
   "language": "python",
   "name": "python3"
  },
  "language_info": {
   "codemirror_mode": {
    "name": "ipython",
    "version": 3
   },
   "file_extension": ".py",
   "mimetype": "text/x-python",
   "name": "python",
   "nbconvert_exporter": "python",
   "pygments_lexer": "ipython3",
   "version": "3.10.13"
  },
  "orig_nbformat": 4
 },
 "nbformat": 4,
 "nbformat_minor": 2
}
