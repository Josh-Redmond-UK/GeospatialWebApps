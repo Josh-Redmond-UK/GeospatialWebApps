{
 "cells": [
  {
   "attachments": {},
   "cell_type": "markdown",
   "metadata": {},
   "source": [
    "## Mapping with ipyleaflet\n",
    "\n",
    "Ok - enough of that matplotlib rubbish, we're here to do some mapping! Using the excellent ipyleaflet we are going to build a basic web map, at first we will just display some data, but we will build up to allowing interaction using the skills you have practiced before. A number of the same ideas, like observers and accessing the attributes of different parts of the map, are important concepts for using ipyleaflet. \n"
   ]
  },
  {
   "cell_type": "code",
   "execution_count": null,
   "metadata": {},
   "outputs": [],
   "source": [
    "#First, lets create a map and marker:\n",
    "\n",
    "from ipyleaflet import Map, Marker, ImageOverlay\n",
    "\n",
    "center = (53.8008, -1.5491)\n",
    "\n",
    "m = Map(center=center, zoom=10)\n",
    "\n",
    "marker = Marker(location=center, draggable=True)\n",
    "m.add_layer(marker)\n",
    "\n",
    "display(m)\n"
   ]
  },
  {
   "attachments": {},
   "cell_type": "markdown",
   "metadata": {},
   "source": [
    "And there we have it - a map! One of the interesting things about ipyleaflet is that it uses the same widget based approach we have seen earlier, so all the interactable objects and markers can be set up with observers, callbacks, and so on. This lets you build a lot of functionality from a user's point of view, and can let you create quite advanced features. \n",
    "\n",
    "Compared to Matplotlib, because the ipyleaflet map is already an interactive widget you don't need to worry so much about resetting and updating the data it displays, you can simply add and remove things from the map, and combine these with other widgets. For example:"
   ]
  },
  {
   "cell_type": "code",
   "execution_count": null,
   "metadata": {},
   "outputs": [],
   "source": [
    "import ipywidgets as widgets\n",
    "\n",
    "reset_button = widgets.Button(description=\"Reset Marker\")\n",
    "\n",
    "def reset_marker(button):\n",
    "    marker.location = center\n",
    "    m.center = center\n",
    "\n",
    "reset_button.on_click(reset_marker)\n",
    "display(reset_button)"
   ]
  },
  {
   "attachments": {},
   "cell_type": "markdown",
   "metadata": {},
   "source": [
    "Now - we will add some data to the map. I have prepared some remote sensing data measuring NDVI and some other spectral indices. By the end of the project, we will use these data to create a heatwave forecasting map (topical!) which will show an estimate for land surface temperature across Leeds. First though, lets learn how to add raster data to the map. "
   ]
  },
  {
   "cell_type": "code",
   "execution_count": null,
   "metadata": {},
   "outputs": [],
   "source": [
    "import rasterio as rio\n",
    "m = Map(center=center, zoom=15)\n",
    "\n",
    "ndvi_reader = rio.open('Data/leeds_NDVI_aug_highres.tif')\n",
    "\n",
    "metadata = ndvi_reader.profile\n",
    "bounds = ndvi_reader.bounds\n",
    "\n",
    "# ipyleaflet cant work with geotiffs directly, we have to do some covnersions before we can place the image on the map\n",
    "# First, we need to convert the bounds to the correct format so the map knows where to draw the image\n",
    "\n",
    "SW = (bounds.bottom, bounds.left)\n",
    "NE = (bounds.top, bounds.right)\n",
    "bounds_tuple = (SW, NE)\n",
    "\n",
    "# Next, we need to convert the image to a format that the map can understand\n",
    "# We will use the rasterio function to convert the image to a numpy array\n",
    "# Then, we will convert it to a jpeg using the PIL library\n",
    "# This is because most browsers cannot show TIFF files, so adding a TIFF file will mean we can't see what is going on \n",
    "\n",
    "import numpy as np\n",
    "from PIL import Image\n",
    "\n",
    "array = ndvi_reader.read()\n",
    "array = np.moveaxis(array, 0, -1)\n",
    "\n",
    "nan_mask = ~np.isnan(array) * 1 \n",
    "nan_mask *= 255\n",
    "nan_mask = nan_mask.astype(np.uint8)\n",
    "array = np.nan_to_num(array)\n",
    "# We need to move the axis of the array so that the color channel is the last axis\n",
    "\n",
    "# We need to scale the values in the array to be between 0 and 255 to be viewable as an image\n",
    "array_max = np.max(array)\n",
    "array_min = np.min(array)\n",
    "array = np.clip((array - array_min) / (array_max - array_min) * 255, 0, 255)\n",
    "array = array.astype(np.uint8)\n",
    "# Now we can convert the array to a jpeg\n",
    "image = Image.fromarray(np.squeeze(np.stack([array, array, array, nan_mask], axis=-1)), mode=\"RGBA\")\n",
    "\n",
    "# Sadly, we cannot add the image array directly to the map, we have to load it from a url \n",
    "# So we need to save the file as a jpeg\n",
    "\n",
    "jpeg_path_temp = image.save(\"temp.png\", mode=\"png\")\n",
    "\n",
    "# Now we can add the image to the map\n",
    "image_layer = ImageOverlay(url=\"temp.png\", bounds=bounds_tuple)\n",
    "m.add_layer(image_layer)\n",
    "ndvi_reader.close()\n",
    "display(m)"
   ]
  },
  {
   "attachments": {},
   "cell_type": "markdown",
   "metadata": {},
   "source": [
    "There we have it - we've added raster data to the map! There's a similar process for adding vector data, but a bit less cumbersome as we don't need to convert between different formats in the same way. There are many web apps which basically allow the user to load and view many different kinds of data. We're going to do something similar right now, allowing a user to load and view different kinds of data. "
   ]
  },
  {
   "cell_type": "code",
   "execution_count": 28,
   "metadata": {},
   "outputs": [],
   "source": [
    "def add_tiff_to_map(path, map, filename=\"temp.png\"):\n",
    "    reader = rio.open(path)\n",
    "\n",
    "    metadata = reader.profile\n",
    "    bounds = reader.bounds\n",
    "\n",
    "    SW = (bounds.bottom, bounds.left)\n",
    "    NE = (bounds.top, bounds.right)\n",
    "    bounds_tuple = (SW, NE)\n",
    "\n",
    "    array = reader.read()\n",
    "    array = np.moveaxis(array, 0, -1)\n",
    "\n",
    "    nan_mask = ~np.isnan(array) * 1 \n",
    "    nan_mask *= 255\n",
    "    nan_mask = nan_mask.astype(np.uint8)\n",
    "    array = np.nan_to_num(array)\n",
    "\n",
    "\n",
    "    array_max = np.max(array)\n",
    "    array_min = np.min(array)\n",
    "    array = np.clip((array - array_min) / (array_max - array_min) * 255, 0, 255)\n",
    "    array = array.astype(np.uint8)\n",
    "\n",
    "    image = Image.fromarray(np.squeeze(np.stack([array, array, array, nan_mask], axis=-1)), mode=\"RGBA\")\n",
    "    image.save(filename)\n",
    "\n",
    "\n",
    "    # Now we can add the image to the map\n",
    "    image_layer = ImageOverlay(url=filename, bounds=bounds_tuple)\n",
    "    map.add_layer(image_layer)\n",
    "\n",
    "\n",
    "image_path_dictionary = {'NDVI':\"Data/leeds_NDVI_aug_highres.tif\",\n",
    " 'NDBI': \"Data/leeds_NDBI_aug_highres.tif\", \n",
    " 'NDWI': \"Data/leeds_NDWI_aug_highres.tif\"}\n"
   ]
  },
  {
   "cell_type": "code",
   "execution_count": 31,
   "metadata": {},
   "outputs": [
    {
     "data": {
      "application/vnd.jupyter.widget-view+json": {
       "model_id": "e46dba11367d4a17a02ac2dc6ef7fb8c",
       "version_major": 2,
       "version_minor": 0
      },
      "text/plain": [
       "Map(bottom=42408.0, center=[53.80065082633023, -1.549072265625], controls=(ZoomControl(options=['position', 'z…"
      ]
     },
     "metadata": {},
     "output_type": "display_data"
    },
    {
     "data": {
      "application/vnd.jupyter.widget-view+json": {
       "model_id": "5f09b6a2b6dc48489bcf369b1ba428d8",
       "version_major": 2,
       "version_minor": 0
      },
      "text/plain": [
       "Dropdown(description='Raster Type:', options=('NDVI', 'NDBI', 'NDWI'), value='NDVI')"
      ]
     },
     "metadata": {},
     "output_type": "display_data"
    }
   ],
   "source": [
    "import ipywidgets as widgets\n",
    "\n",
    "image_type_dropdown = widgets.Dropdown(options=image_path_dictionary.keys(), description='Raster Type:')\n",
    "\n",
    "def update_image(change):\n",
    "    \n",
    "    add_tiff_to_map(image_path_dictionary[image_type_dropdown.value], m, image_type_dropdown.value + \".png\")\n",
    "\n",
    "image_type_dropdown.observe(update_image, names='value')\n",
    "display(m)\n",
    "display(image_type_dropdown)"
   ]
  },
  {
   "attachments": {},
   "cell_type": "markdown",
   "metadata": {},
   "source": [
    "Now you have an interactive map where users can choose which data to view and explore areas interesting to them. One trick we are employing here is to just load and unload data, rather than calculating NDVI or similar indices on the fly using remote sensing images. You can apply this logic to all kinds of analysis, if your model has a relatively small number of parameters, and it is possible for you to pre-compute all the options beforehand, it might be better for your app to do this and just let users view the data interactively. This saves a lot of computing resources on mobile and web devices which might not be very powerful. It also means users dont have to wait a long time for servers to fetch and return data, perform analysis, crunch numbers, and so on. "
   ]
  },
  {
   "attachments": {},
   "cell_type": "markdown",
   "metadata": {},
   "source": [
    "We'll go on to some more advanced concepts in a minute, but first, we'll do some exercises to practice what you have just learned. "
   ]
  },
  {
   "cell_type": "code",
   "execution_count": 32,
   "metadata": {},
   "outputs": [],
   "source": [
    "# Exercise 1: Precomputing your results is much faster than computing them on the fly. In this case, we have some static data but just want to \n",
    "# display it, because tiff files cannot be shown directly, we need to conver it to a jpeg. \n",
    "# Write a function that takes a path to a tiff file, converts it to a jpeg, and returns the path to the jpeg file. And use that to create a new \n",
    "# file path dictionary and dropdown menu to add data to the map. \n",
    "\n",
    "def convert_tiff_to_jpeg(tiff_path):\n",
    "\n",
    "    return None #jpeg_path, image_bounds\n",
    "\n"
   ]
  },
  {
   "cell_type": "code",
   "execution_count": 33,
   "metadata": {},
   "outputs": [],
   "source": [
    "# Exercise 2: Showing maps alongside charts and other kinds of visualisations can be a powerful way of communicating your results.\n",
    "# Create a new map and dropdown options which allow you to select between the NDVI, NDBI, and NDWI rasters. \n",
    "# Alongside the map, use matplotlib to show a histogram of the values in the raster.\n",
    "# Hint: You can use the rasterio function to read the values of the raster into a numpy array, then use matplotlib to plot the histogram.\n",
    "# Bonus Hint: Use the container widgets from the earlier class to display the map and histogram side by side.\n",
    "\n"
   ]
  },
  {
   "cell_type": "code",
   "execution_count": null,
   "metadata": {},
   "outputs": [],
   "source": []
  }
 ],
 "metadata": {
  "kernelspec": {
   "display_name": "GIScienceWorkshop",
   "language": "python",
   "name": "python3"
  },
  "language_info": {
   "codemirror_mode": {
    "name": "ipython",
    "version": 3
   },
   "file_extension": ".py",
   "mimetype": "text/x-python",
   "name": "python",
   "nbconvert_exporter": "python",
   "pygments_lexer": "ipython3",
   "version": "3.10.13"
  },
  "orig_nbformat": 4
 },
 "nbformat": 4,
 "nbformat_minor": 2
}
