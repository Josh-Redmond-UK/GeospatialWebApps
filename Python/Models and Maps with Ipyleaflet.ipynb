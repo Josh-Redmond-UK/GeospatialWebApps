{
 "cells": [
  {
   "attachments": {},
   "cell_type": "markdown",
   "metadata": {},
   "source": [
    "## Models and Maps with Ipyleaflet\n",
    "\n",
    "In this next section, we're going to use all of what you have learned so far to create a heatwave forecasting map which lets users explore future events. \n",
    "\n",
    "Please note, the model for air temperature in this section is basically totally made up. It makes some intuitive sense but the parameters are basically random, and probably will not give any reasonable estimate, it is purely to demonstrate how to use a model to create data which will go onto a map. "
   ]
  },
  {
   "cell_type": "code",
   "execution_count": null,
   "metadata": {},
   "outputs": [],
   "source": [
    "import numpy as np\n",
    "\n",
    "# First, lets define a really simple model for the air temperature of point on the land surface. We will model this as a linear combination of \n",
    "# solar irradiance, NDVI, NDBI, and NDWI. We will also add some random noise to the model to make it more realistic. \n",
    "# This relies on the intuition of the urban heat island effect, where the emissivity and other characteristics of the land surface\n",
    "# affect temperature. \n",
    "\n",
    "def model_airtemp(solar_irradiance, ndvi, ndbi, ndwi, c=25, ndvi_beta=-3, ndbi_beta=4, ndwi_beta=-2):\n",
    "    airtemp =  ndvi_beta*ndvi + ndbi_beta*ndbi + ndwi_beta*ndwi + np.random.normal(-1, 1) + c + solar_irradiance\n",
    "    return airtemp\n",
    "\n",
    "# Fun question - why do I add the solar_arradiance to the model ad the end?"
   ]
  },
  {
   "cell_type": "code",
   "execution_count": null,
   "metadata": {},
   "outputs": [],
   "source": [
    "import ipywidgets as widgets\n",
    "from ipyleaflet import Map, ImageOverlay\n",
    "import rasterio as rio\n",
    "\n",
    "m = Map(center=(40.7128, -74.0060), zoom=12)\n",
    "\n",
    "# First, we will load the spectral indices data from the raster files. \n",
    "\n",
    "ndvi_array = rio.open('data/ndvi.tif').read(1)\n",
    "ndwi_array = rio.open('data/ndwi.tif').read(1)\n",
    "ndbi_array = rio.open('data/ndbi.tif').read(1)\n",
    "\n",
    "# All three of these arrays have the same shape, so we can use the shape and extent of one of them to define the extent of air temperature data.\n",
    "\n",
    "image_extent = rio.open('data/ndvi.tif').bounds\n",
    "SW = (bounds.left, bounds.bottom)\n",
    "NE = (bounds.right, bounds.top)\n",
    "bounds_tuple = (SW, NE)\n",
    "\n",
    "# Now, lets create the airtemperature array which holds the data\n",
    "airtemp_array = model_airtemp(3, ndvi_array, ndbi_array, ndwi_array)\n",
    "\n",
    "from PIL import Image\n",
    "\n",
    "array = np.moveaxis(airtemp_array, 0, -1)\n",
    "\n",
    "array_max = np.max(array)\n",
    "array_min = np.min(array)\n",
    "array = np.clip((array - array_min) / (array_max - array_min) * 255, 0, 255)\n",
    "array = array.as_type(np.uint8)\n",
    "\n",
    "image = Image.fromarray(array)\n",
    "\n",
    "\n",
    "jpeg_path_temp = SAVE_FILE_FUNCTION(PTH)\n",
    "\n",
    "# Now we can add the image to the map\n",
    "image_layer = ImageOverlay(url=jpeg_path_temp, bounds=bounds_tuple)\n",
    "m.add_layer(image_layer)\n",
    "display(m)"
   ]
  },
  {
   "attachments": {},
   "cell_type": "markdown",
   "metadata": {},
   "source": [
    "Now that we have added the data to the map, its time to put it all together! \n",
    "\n",
    "Using what you have learned in the previous notebooks, your job is to:\n",
    "1. Create a slider to alter solar_irradiance between 10 and 23\n",
    "2. Use an observer to calculate a new air temperature raster each time the slider is changed\n",
    "3. Clear the map of its old layers, and add the new raster once it is calculated\n",
    "4. Create an additional panel for tuning the coefficients of the model: ndvi_beta, ndwi_beta, and ndbi_beta between -5 and 5\n",
    "5. Use containers to compose these widgets together so the map is on one side, and controls are on the other\n",
    "\n",
    "To get started, I will provide a function which automatically converts the air temperature array to a jpeg file\n"
   ]
  },
  {
   "cell_type": "code",
   "execution_count": null,
   "metadata": {},
   "outputs": [],
   "source": [
    "def array_to_jpeg(array, jpeg_path='temp.jpeg'):\n",
    "    array = np.moveaxis(airtemp_array, 0, -1)\n",
    "\n",
    "    array_max = np.max(array)\n",
    "    array_min = np.min(array)\n",
    "    array = np.clip((array - array_min) / (array_max - array_min) * 255, 0, 255)\n",
    "    array = array.as_type(np.uint8)\n",
    "\n",
    "    image = Image.fromarray(array)\n",
    "\n",
    "    jpeg_path_temp = SAVE_FILE_FUNCTION(PTH)\n",
    "    return jpeg_path\n",
    "\n"
   ]
  },
  {
   "cell_type": "code",
   "execution_count": null,
   "metadata": {},
   "outputs": [],
   "source": [
    "## Bonus Exercise! \n",
    "# The image added to the map is currently gray-scale, and doesn't contain any information about the scale of the values. \n",
    "# Your task is to update the widgets you have created above to generate colour images using a colour map of your choice. \n",
    "# We have to manually convert the single-band array to a 3-band colour image.\n",
    "# We can do that using the following function\n",
    "import matplotlib\n",
    "import matplotlib.cm as cm\n",
    "\n",
    "def greyscale_to_colour(greyscale_array):\n",
    "    array_max = np.max(array)\n",
    "    array_min = np.min(array)\n",
    "    # Matplotlib wants the data in range [0, 1], so we need to normalise the data\n",
    "    normaliser = matplotlib.colors.Normalize(vmin=array_min, vmax=array_max, clip=True)\n",
    "    scalar_mapper = cm.ScalarMappable(norm=normaliser, cmap='magma')\n",
    "    colour_array = scalar_mapper.to_rgba(greyscale_array)\n",
    "    return colour_array[:,:,:-1] #drop the alpha channel\n",
    "\n",
    "#The rest is up to you"
   ]
  }
 ],
 "metadata": {
  "kernelspec": {
   "display_name": "GIScienceWorkshop",
   "language": "python",
   "name": "python3"
  },
  "language_info": {
   "name": "python",
   "version": "3.10.12"
  },
  "orig_nbformat": 4
 },
 "nbformat": 4,
 "nbformat_minor": 2
}
